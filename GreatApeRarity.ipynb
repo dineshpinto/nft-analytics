{
 "cells": [
  {
   "cell_type": "code",
   "execution_count": 1,
   "id": "b7ae0003-8dd5-4cab-b479-fa32c6ad42b3",
   "metadata": {},
   "outputs": [],
   "source": [
    "import os\n",
    "from datetime import datetime\n",
    "from dateutil.parser import parse\n",
    "import time\n",
    "\n",
    "import numpy as np\n",
    "import pandas as pd\n",
    "import scipy.stats as scs\n",
    "import matplotlib\n",
    "import matplotlib.pyplot as plt\n",
    "import matplotlib.dates as mdates\n",
    "from pprint import pprint\n",
    "from tqdm import tqdm\n",
    "\n",
    "import seaborn as sns\n",
    "sns.set_theme(style=\"whitegrid\")\n",
    "\n",
    "from src.nft_analytics import NFTAnalytics\n",
    "from src.ethereum_api import EthereumAPI"
   ]
  },
  {
   "cell_type": "code",
   "execution_count": 2,
   "id": "15651d80-1cfd-441b-b9ae-0788573e7bbd",
   "metadata": {},
   "outputs": [
    {
     "name": "stdout",
     "output_type": "stream",
     "text": [
      "2021-10-15 14:06:53,137 - src.ethereum_api - INFO - Connected to Infura endpoint.\n"
     ]
    }
   ],
   "source": [
    "gaa = NFTAnalytics(\"0xA0F38233688bB578c0a88102A95b846c18bc0bA7\")\n",
    "DATA_FOLDER, RESULT_FOLDER = gaa.make_directories(\"GreatApeSociety\")\n",
    "TIMESTAMP = datetime.now().strftime(\"%Y-%m-%d_\")"
   ]
  },
  {
   "cell_type": "code",
   "execution_count": 3,
   "id": "3f270f87-578a-44c0-ba48-dc0b1b7f246a",
   "metadata": {},
   "outputs": [],
   "source": [
    "asset_data = gaa.load_json(filename=os.path.join(DATA_FOLDER, \"data.json\"))"
   ]
  },
  {
   "cell_type": "code",
   "execution_count": 7,
   "id": "418e999b-e41d-430b-bd59-12410c834c7f",
   "metadata": {},
   "outputs": [],
   "source": [
    "def get_rarities(asset_data: list) -> dict:\n",
    "    rarity_scores = []\n",
    "    token_ids = []\n",
    "\n",
    "    for asset in asset_data:        \n",
    "        rarity = 0\n",
    "        if asset[\"traits\"]:    \n",
    "            for trait in asset[\"traits\"]:\n",
    "                rarity += 1 / int(trait[\"trait_count\"])\n",
    "            token_ids.append(asset[\"token_id\"])\n",
    "            rarity_scores.append(rarity)\n",
    "\n",
    "    rarity_scores = np.array(rarity_scores)\n",
    "    rarity_scores = (100 - 1) / (max(rarity_scores) - min(rarity_scores)) * (rarity_scores - max(rarity_scores)) + 100\n",
    "\n",
    "    rarities = {}\n",
    "    for token_id, rarity_score in zip(token_ids, rarity_scores):\n",
    "        rarities[token_id] = rarity_score\n",
    "        \n",
    "    return rarities"
   ]
  },
  {
   "cell_type": "code",
   "execution_count": 8,
   "id": "9016d908-2825-4bd6-bb80-a4001e0d15d7",
   "metadata": {},
   "outputs": [
    {
     "name": "stdout",
     "output_type": "stream",
     "text": [
      "34.6 ms ± 1.91 ms per loop (mean ± std. dev. of 7 runs, 10 loops each)\n"
     ]
    }
   ],
   "source": [
    "%%timeit\n",
    "r = get_rarities(asset_data)"
   ]
  },
  {
   "cell_type": "code",
   "execution_count": null,
   "id": "e836e247-c431-4ad1-956c-ed6e7e56f3f0",
   "metadata": {},
   "outputs": [],
   "source": []
  }
 ],
 "metadata": {
  "kernelspec": {
   "display_name": "nft_analytics",
   "language": "python",
   "name": "nft_analytics"
  },
  "language_info": {
   "codemirror_mode": {
    "name": "ipython",
    "version": 3
   },
   "file_extension": ".py",
   "mimetype": "text/x-python",
   "name": "python",
   "nbconvert_exporter": "python",
   "pygments_lexer": "ipython3",
   "version": "3.9.6"
  }
 },
 "nbformat": 4,
 "nbformat_minor": 5
}
