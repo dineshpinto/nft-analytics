{
 "cells": [
  {
   "cell_type": "code",
   "execution_count": 3,
   "id": "bulgarian-ethics",
   "metadata": {},
   "outputs": [],
   "source": [
    "import os\n",
    "from datetime import datetime\n",
    "from dateutil.parser import parse\n",
    "import time\n",
    "\n",
    "import numpy as np\n",
    "import pandas as pd\n",
    "import scipy.stats as scs\n",
    "import matplotlib\n",
    "import matplotlib.pyplot as plt\n",
    "import matplotlib.dates as mdates\n",
    "from pprint import pprint\n",
    "from tqdm import tqdm\n",
    "\n",
    "from src.nft_analytics import NFTAnalytics\n",
    "from src.ethereum_api import EthereumAPI"
   ]
  },
  {
   "cell_type": "code",
   "execution_count": 4,
   "id": "violent-registration",
   "metadata": {},
   "outputs": [
    {
     "name": "stdout",
     "output_type": "stream",
     "text": [
      "2021-08-30 09:42:50,536 - src.ethereum_api - INFO - Connected to Infura endpoint.\n"
     ]
    }
   ],
   "source": [
    "gaa = NFTAnalytics(\"0xA0F38233688bB578c0a88102A95b846c18bc0bA7\")\n",
    "eth_api = EthereumAPI()\n",
    "DATA_FOLDER = os.path.join(\"data\", \"GreatApeSociety\")\n",
    "RESULT_FOLDER = os.path.join(\"results\", \"GreatApeSociety\")"
   ]
  },
  {
   "cell_type": "markdown",
   "id": "ambient-details",
   "metadata": {},
   "source": [
    "# Fetch all GreatApe data from OpenSea\n",
    "\n",
    "Note that this can fail if OpenSea decides to rate limit. Works best at night when the load on their servers is low."
   ]
  },
  {
   "cell_type": "code",
   "execution_count": null,
   "id": "personal-concern",
   "metadata": {},
   "outputs": [],
   "source": [
    "asset_data = gaa.fetch_data(max_offset=10000)"
   ]
  },
  {
   "cell_type": "markdown",
   "id": "architectural-chosen",
   "metadata": {},
   "source": [
    "# Save list to json file for further use"
   ]
  },
  {
   "cell_type": "code",
   "execution_count": null,
   "id": "hearing-bidding",
   "metadata": {},
   "outputs": [],
   "source": [
    "gaa.save_json(asset_data, filename=os.path.join(DATA_FOLDER, \"data.json\"))"
   ]
  },
  {
   "cell_type": "markdown",
   "id": "alleged-jackson",
   "metadata": {},
   "source": [
    "# Load json file"
   ]
  },
  {
   "cell_type": "code",
   "execution_count": 5,
   "id": "gentle-repository",
   "metadata": {},
   "outputs": [],
   "source": [
    "asset_data = gaa.load_json(filename=os.path.join(DATA_FOLDER, \"data.json\"))"
   ]
  },
  {
   "cell_type": "code",
   "execution_count": null,
   "id": "c88fd80d-8a1e-4dbd-b067-eddd8f48484e",
   "metadata": {},
   "outputs": [],
   "source": [
    "def missing_elements_in_sorted_list(L):\n",
    "    start, end = L[0], L[-1]\n",
    "    return sorted(set(range(start, end + 1)).difference(L))"
   ]
  },
  {
   "cell_type": "markdown",
   "id": "downtown-lambda",
   "metadata": {},
   "source": [
    "## Scatter plot of listing prices with time"
   ]
  },
  {
   "cell_type": "code",
   "execution_count": null,
   "id": "magnetic-march",
   "metadata": {},
   "outputs": [],
   "source": [
    "created_dates = []\n",
    "listing_prices = []\n",
    "for asset in asset_data:\n",
    "    if asset[\"sell_orders\"]:\n",
    "        created_dates.append(parse(asset[\"sell_orders\"][0][\"created_date\"]))\n",
    "        listing_prices.append(float(asset[\"sell_orders\"][0][\"base_price\"]) / 1e18)\n",
    "listing_prices = np.array(listing_prices)"
   ]
  },
  {
   "cell_type": "code",
   "execution_count": null,
   "id": "genuine-retirement",
   "metadata": {},
   "outputs": [],
   "source": [
    "fig, ax = plt.subplots()\n",
    "\n",
    "dates = matplotlib.dates.date2num(created_dates)\n",
    "ax.plot_date(dates, listing_prices, 'o', alpha=0.5)\n",
    "fig.autofmt_xdate()\n",
    "ax.set_ylim(-0.01, 0.1)\n",
    "ax.set_ylabel(\"Listing Price (ETH)\")\n",
    "ax.axhline(0.07, color=\"tab:orange\", linestyle=\"--\", label=\"Current OpenSea floor price\")\n",
    "ax.set_title(\"Variation of listing price with time\")\n",
    "ax.legend()\n",
    "\n",
    "#fig.savefig(os.path.join(RESULT_FOLDER, \"listing_price_variation_with_time_near_floor.jpg\"), bbox_inches=\"tight\", dpi=600)"
   ]
  },
  {
   "cell_type": "code",
   "execution_count": null,
   "id": "adolescent-source",
   "metadata": {},
   "outputs": [],
   "source": [
    "# Cost to cleanup floor\n",
    "np.sum(listing_prices[listing_prices < 0.1])"
   ]
  },
  {
   "cell_type": "markdown",
   "id": "personalized-typing",
   "metadata": {},
   "source": [
    "## Histogram of listing prices"
   ]
  },
  {
   "cell_type": "code",
   "execution_count": null,
   "id": "chronic-ottawa",
   "metadata": {},
   "outputs": [],
   "source": [
    "upper_limit = 3\n",
    "\n",
    "fig, ax = plt.subplots()\n",
    "_, bins, _ = ax.hist(listing_prices, histtype='stepfilled', density=True, bins=100, range=[0, upper_limit], alpha=0.5)\n",
    "\n",
    "params = scs.lognorm.fit(listing_prices[listing_prices < upper_limit])\n",
    "x_bins = np.linspace(1e-2, np.max(listing_prices[listing_prices < upper_limit]), len(bins)*100) \n",
    "ax.plot(x_bins, scs.lognorm.pdf(x_bins, *params), 'tab:red', linewidth=2, label=f\"Lognormal distribution\\nMean = {params[2]:.2f} ETH\")\n",
    "\n",
    "ax.set_xlabel(\"Listing Price (ETH)\")\n",
    "ax.set_ylabel(\"No. of listings (norm.)\")\n",
    "ax.legend()\n",
    "\n",
    "ax.set_xscale(\"log\")\n",
    "#fig.savefig(os.path.join(RESULT_FOLDER, \"histogram_listing_price_variation_near_floor.jpg\"), bbox_inches=\"tight\", dpi=600)"
   ]
  },
  {
   "cell_type": "markdown",
   "id": "parallel-wheel",
   "metadata": {},
   "source": [
    "# Sale price with time"
   ]
  },
  {
   "cell_type": "code",
   "execution_count": null,
   "id": "human-spirit",
   "metadata": {},
   "outputs": [],
   "source": [
    "sale_prices = []\n",
    "timestamps = []\n",
    "\n",
    "for asset in asset_data:\n",
    "    if asset[\"last_sale\"]:\n",
    "        if asset[\"last_sale\"][\"event_type\"] == \"successful\":\n",
    "            timestamps.append(parse(asset[\"last_sale\"][\"transaction\"][\"timestamp\"]))\n",
    "            sale_prices.append(float(asset[\"last_sale\"][\"total_price\"]) / 1e18)\n",
    "            \n",
    "sale_prices = np.array(sale_prices)"
   ]
  },
  {
   "cell_type": "code",
   "execution_count": null,
   "id": "typical-order",
   "metadata": {},
   "outputs": [],
   "source": [
    "fig, ax = plt.subplots()\n",
    "\n",
    "dates = matplotlib.dates.date2num(timestamps)\n",
    "ax.plot_date(dates, sale_prices, 'o', alpha=0.5)\n",
    "fig.autofmt_xdate()\n",
    "ax.set_ylim(-0.01, 0.1)\n",
    "ax.set_ylabel(\"Sale Price (ETH)\")\n",
    "ax.axhline(0.07, color=\"tab:orange\", linestyle=\"--\", label=\"Current OpenSea floor price\")\n",
    "ax.set_title(\"Variation of sale price with time\")\n",
    "ax.legend()\n",
    "\n",
    "#fig.savefig(os.path.join(RESULT_FOLDER, \"sale_price_variation_with_time_near_floor.jpg\"), bbox_inches=\"tight\", dpi=600)"
   ]
  },
  {
   "cell_type": "markdown",
   "id": "extensive-glasgow",
   "metadata": {},
   "source": [
    "# Histogram of sale prices"
   ]
  },
  {
   "cell_type": "code",
   "execution_count": null,
   "id": "signed-september",
   "metadata": {},
   "outputs": [],
   "source": [
    "upper_limit = 1\n",
    "\n",
    "fig, ax = plt.subplots()\n",
    "_, bins, _ = ax.hist(sale_prices, density=True, bins=60, range=[0, upper_limit], alpha=0.5)\n",
    "\n",
    "params = scs.lognorm.fit(sale_prices[sale_prices < upper_limit])\n",
    "x_bins = np.linspace(1e-2, np.max(sale_prices[sale_prices < upper_limit]), len(bins)*100) \n",
    "ax.plot(x_bins, scs.lognorm.pdf(x_bins, *params), 'tab:red', linewidth=2, label=f\"Lognormal distribution\\nMean = {params[2]:.2f} ETH\")\n",
    "\n",
    "ax.set_xlabel(\"Sale Price (ETH)\")\n",
    "ax.set_ylabel(\"No. of sales (norm.)\")\n",
    "ax.legend()\n",
    "ax.set_xscale(\"log\")\n",
    "\n",
    "#fig.savefig(os.path.join(RESULT_FOLDER, \"histogram_sale_price_variation_near_floor.jpg\"), bbox_inches=\"tight\", dpi=600)"
   ]
  },
  {
   "cell_type": "markdown",
   "id": "varying-haven",
   "metadata": {},
   "source": [
    "# Time histogram of number of sales (defined by timestamps within bin)"
   ]
  },
  {
   "cell_type": "code",
   "execution_count": null,
   "id": "dominant-failure",
   "metadata": {},
   "outputs": [],
   "source": [
    "upper_limit = 1\n",
    "\n",
    "fig, ax = plt.subplots()\n",
    "\n",
    "unix_timestamps = []\n",
    "\n",
    "for times in timestamps:\n",
    "    unix_timestamps.append(times.timestamp())\n",
    "\n",
    "mpl_data = mdates.epoch2num(unix_timestamps)\n",
    "_, bins, _ = ax.hist(mpl_data, bins=50, alpha=0.5)\n",
    "\n",
    "ax.xaxis.set_major_formatter(mdates.DateFormatter('%d.%m'))\n",
    "ax.set_ylabel(\"No. of sales\")\n",
    "\n",
    "#fig.savefig(os.path.join(RESULT_FOLDER, \"histogram_number_of_sales_with_time.jpg\"), bbox_inches=\"tight\", dpi=600)"
   ]
  },
  {
   "cell_type": "markdown",
   "id": "prescription-arizona",
   "metadata": {},
   "source": [
    "# Time histogram of number of sales over a day (defined by timestamps within bin)"
   ]
  },
  {
   "cell_type": "code",
   "execution_count": null,
   "id": "american-kinase",
   "metadata": {},
   "outputs": [],
   "source": [
    "fig, ax = plt.subplots()\n",
    "\n",
    "hours = []\n",
    "\n",
    "for times in timestamps:\n",
    "    hours.append(times.hour)\n",
    "    \n",
    "_, bins, _ = ax.hist(hours, bins=24, alpha=0.5)\n",
    "\n",
    "ax.set_ylabel(\"No. of sales\")\n",
    "ax.set_xlabel(\"Time of day in hours (UTC)\")\n",
    "ax.set_yscale(\"log\")\n",
    "#fig.savefig(os.path.join(RESULT_FOLDER, \"histogram_number_of_sales_with_time_of_day.jpg\"), bbox_inches=\"tight\", dpi=600)"
   ]
  },
  {
   "cell_type": "markdown",
   "id": "coupled-crash",
   "metadata": {},
   "source": [
    "# Median price of traits"
   ]
  },
  {
   "cell_type": "code",
   "execution_count": null,
   "id": "objective-vanilla",
   "metadata": {},
   "outputs": [],
   "source": [
    "traits = {\n",
    "    \"Clothes\" : \"Hufflepuff\",\n",
    "    \"Eyes\": \"Orange_Glasses\",\n",
    "    \"Fur\": \"Gold_Skin\",\n",
    "    \"Background\": \"Carolina\",\n",
    "    \"Mouth\": \"Laughing_Mouth\",\n",
    "    \"Earring\": \"Green_Red_Earring\",\n",
    "    \"Hat\": \"Fire_Hair\"\n",
    "}\n",
    "\n",
    "prices = gaa.get_median_prices(asset_data, traits)\n",
    "print(f\"Average price = {np.average(prices):.2f}, Max price = {np.max(prices):.2f}, Min price = {np.min(prices):.2f}\")"
   ]
  },
  {
   "cell_type": "markdown",
   "id": "variable-hostel",
   "metadata": {},
   "source": [
    "# Most valuable traits based on listing price"
   ]
  },
  {
   "cell_type": "code",
   "execution_count": null,
   "id": "compact-series",
   "metadata": {},
   "outputs": [],
   "source": [
    "for trait in traits.keys():\n",
    "    trait_dict = gaa.get_trait_type_median_price(asset_data, trait)\n",
    "    val = {k: trait_dict[k] for k in list(trait_dict)[:1]}\n",
    "    print(f\"{trait}: {val}\")"
   ]
  },
  {
   "cell_type": "markdown",
   "id": "cosmetic-badge",
   "metadata": {},
   "source": [
    "# ETH in seller's wallet"
   ]
  },
  {
   "cell_type": "code",
   "execution_count": null,
   "id": "muslim-safety",
   "metadata": {},
   "outputs": [],
   "source": [
    "eth_in_wallet_buyer = []\n",
    "eth_in_wallet_seller = []\n",
    "\n",
    "for asset in asset_data:\n",
    "    if asset[\"last_sale\"]:\n",
    "        if asset[\"last_sale\"][\"event_type\"] == \"successful\":\n",
    "            seller_address = asset[\"last_sale\"][\"transaction\"][\"from_account\"][\"address\"]\n",
    "            eth_in_wallet_seller.append(eth_api.get_eth_balance(seller_address))\n",
    "            \n",
    "            # buyer_address = asset[\"last_sale\"][\"transaction\"][\"to_account\"][\"address\"]\n",
    "            # eth_in_wallet_buyer.append(get_total_eth_weth_balance(weth_contract, buyer_address))"
   ]
  },
  {
   "cell_type": "code",
   "execution_count": null,
   "id": "designed-capital",
   "metadata": {},
   "outputs": [],
   "source": [
    "gaa.save_json(eth_in_wallet_seller, filename=os.path.join(DATA_FOLDER, \"eth_in_wallet_seller.json\"))"
   ]
  },
  {
   "cell_type": "code",
   "execution_count": null,
   "id": "unlike-husband",
   "metadata": {},
   "outputs": [],
   "source": [
    "eth_in_wallet_seller = gaa.load_json(filename=os.path.join(DATA_FOLDER, \"eth_in_wallet_seller.json\"))\n",
    "eth_in_wallet_seller = np.array(eth_in_wallet_seller)"
   ]
  },
  {
   "cell_type": "code",
   "execution_count": null,
   "id": "gentle-thriller",
   "metadata": {},
   "outputs": [],
   "source": [
    "fig, ax = plt.subplots()\n",
    "\n",
    "upper_limit = 100\n",
    "\n",
    "_, bins, _ = ax.hist(eth_in_wallet_seller, density=True, bins=100, alpha=0.5, range=[0, upper_limit], label=f\"Median = {np.median(eth_in_wallet_seller):.2f} ETH\")\n",
    "\n",
    "print(f\"Under {upper_limit} ETH = {len(eth_in_wallet_seller[eth_in_wallet_seller < upper_limit]) / len(eth_in_wallet_seller) * 100:.2f}%\")\n",
    "print(f\"Over {upper_limit} ETH = {len(eth_in_wallet_seller[eth_in_wallet_seller > upper_limit]) / len(eth_in_wallet_seller) * 100:.2f}%\")\n",
    "\n",
    "ax.set_ylabel(\"No. of wallets\")\n",
    "ax.set_yscale(\"log\")\n",
    "ax.set_xscale(\"log\")\n",
    "\n",
    "ax.set_xlabel(\"ETH in wallet\")\n",
    "ax.legend()\n",
    "\n",
    "fig.savefig(os.path.join(RESULT_FOLDER, \"eth_in_seller_wallet.jpg\"), bbox_inches=\"tight\", dpi=600)"
   ]
  },
  {
   "cell_type": "markdown",
   "id": "necessary-collapse",
   "metadata": {},
   "source": [
    "# Ape holder addresse"
   ]
  },
  {
   "cell_type": "code",
   "execution_count": 6,
   "id": "flexible-imagination",
   "metadata": {},
   "outputs": [],
   "source": [
    "addresses = []\n",
    "\n",
    "for asset in asset_data:\n",
    "    addresses.append(asset[\"owner\"][\"address\"])"
   ]
  },
  {
   "cell_type": "code",
   "execution_count": 9,
   "id": "e514ac74-0d9e-4da4-b118-9d2f855a19d7",
   "metadata": {},
   "outputs": [],
   "source": [
    "unique_addresses = list(set(addresses))"
   ]
  },
  {
   "cell_type": "code",
   "execution_count": 16,
   "id": "7aa130ee-d28c-4196-ba81-c6d04bfe313f",
   "metadata": {},
   "outputs": [
    {
     "data": {
      "text/plain": [
       "2570"
      ]
     },
     "execution_count": 16,
     "metadata": {},
     "output_type": "execute_result"
    }
   ],
   "source": [
    "len(unique_addresses)"
   ]
  },
  {
   "cell_type": "code",
   "execution_count": 46,
   "id": "8a27ac1e-8941-4f1d-87f1-8e3e6a833d6c",
   "metadata": {},
   "outputs": [],
   "source": [
    "apes_held = {}\n",
    "\n",
    "for asset in asset_data:\n",
    "    apes_held[asset[\"owner\"][\"address\"]] = 0\n",
    "     \n",
    "for asset in asset_data:\n",
    "    apes_held[asset[\"owner\"][\"address\"]] += 1"
   ]
  },
  {
   "cell_type": "code",
   "execution_count": 69,
   "id": "00823262-efcc-450d-b66f-99b21e1f32fb",
   "metadata": {},
   "outputs": [
    {
     "data": {
      "text/plain": [
       "2570"
      ]
     },
     "execution_count": 69,
     "metadata": {},
     "output_type": "execute_result"
    }
   ],
   "source": [
    "len(apes_held.values())"
   ]
  },
  {
   "cell_type": "code",
   "execution_count": 54,
   "id": "59480063-5168-44db-aaed-a773e942c15f",
   "metadata": {},
   "outputs": [],
   "source": [
    "df = pd.DataFrame(columns=[\"Address\", \"ETH_balance\", \"Great_apes\"])\n",
    "\n",
    "for idx, (address, num_apes) in enumerate(apes_held.items()):\n",
    "    df.loc[idx] = [address, eth_api.get_eth_balance(address), num_apes]"
   ]
  },
  {
   "cell_type": "code",
   "execution_count": 55,
   "id": "88db233b-f855-4d83-9c86-953de3299a96",
   "metadata": {},
   "outputs": [],
   "source": [
    "etherscan_links = []\n",
    "for address in df[\"Address\"]:\n",
    "    etherscan_links.append(f\"https://etherscan.io/address/{address}\")\n",
    "df[\"Etherscan_link\"] = etherscan_links\n",
    "\n",
    "opensea_links = []\n",
    "for address in df[\"Address\"]:\n",
    "    opensea_links.append(f\"https://opensea.io/{address}\")\n",
    "df[\"OpenSea_link\"] = opensea_links"
   ]
  },
  {
   "cell_type": "code",
   "execution_count": 58,
   "id": "c3bfc56d-3ae1-41f1-ab39-fc51fdec34ad",
   "metadata": {},
   "outputs": [],
   "source": [
    "df = df.sort_values(\"Great_apes\", ascending=False)"
   ]
  },
  {
   "cell_type": "code",
   "execution_count": 60,
   "id": "4aec2425-eac1-4e2e-9226-e918cdc66caf",
   "metadata": {},
   "outputs": [],
   "source": [
    "df.to_excel(os.path.join(RESULT_FOLDER, \"ape_holders_addresses_balances_and_holdings_method2.xlsx\"), index=False)"
   ]
  },
  {
   "cell_type": "code",
   "execution_count": null,
   "id": "7033300d-cea1-4df8-87af-6bfd13e2170c",
   "metadata": {},
   "outputs": [],
   "source": [
    "df = pd.read_excel(os.path.join(RESULT_FOLDER, \"ape_holders_addresses_balances_and_holdings_method2.xlsx\"))"
   ]
  },
  {
   "cell_type": "code",
   "execution_count": 67,
   "id": "61f2e878-9de0-4ef9-a53d-9698b1a16ba0",
   "metadata": {},
   "outputs": [
    {
     "data": {
      "text/plain": [
       "19.961089494163424"
      ]
     },
     "execution_count": 67,
     "metadata": {},
     "output_type": "execute_result"
    }
   ],
   "source": [
    "len(df[df[\"Great_apes\"] >= 5]) / (len(df[df[\"Great_apes\"] >= 5]) + len(df[df[\"Great_apes\"] < 5])) * 100"
   ]
  },
  {
   "cell_type": "code",
   "execution_count": 68,
   "id": "15290fc3-293b-45ed-984d-3bfd3c35bedf",
   "metadata": {},
   "outputs": [
    {
     "data": {
      "text/plain": [
       "513"
      ]
     },
     "execution_count": 68,
     "metadata": {},
     "output_type": "execute_result"
    }
   ],
   "source": [
    "len(df[df[\"Great_apes\"] >= 5])"
   ]
  },
  {
   "cell_type": "markdown",
   "id": "5b13dc68-d22a-4edc-898e-ca0073d6923e",
   "metadata": {},
   "source": [
    "# Average ETH/WETH for GreatApe owner (Subsampling)"
   ]
  },
  {
   "cell_type": "code",
   "execution_count": null,
   "id": "pursuant-warren",
   "metadata": {},
   "outputs": [],
   "source": [
    "events_data = gaa.fetch_events(max_offset=10000)"
   ]
  },
  {
   "cell_type": "code",
   "execution_count": null,
   "id": "detected-suffering",
   "metadata": {},
   "outputs": [],
   "source": [
    "len(events_data)"
   ]
  },
  {
   "cell_type": "code",
   "execution_count": null,
   "id": "compact-frank",
   "metadata": {},
   "outputs": [],
   "source": [
    "gaa.save_json(events_data, filename=os.path.join(DATA_FOLDER, \"events.json\"))"
   ]
  },
  {
   "cell_type": "code",
   "execution_count": null,
   "id": "missing-contributor",
   "metadata": {},
   "outputs": [],
   "source": [
    "events_data = gaa.load_json(filename=os.path.join(DATA_FOLDER, \"events.json\"))"
   ]
  },
  {
   "cell_type": "code",
   "execution_count": null,
   "id": "virgin-insertion",
   "metadata": {},
   "outputs": [],
   "source": [
    "for event in events_data:\n",
    "    pprint(event[\"created_date\"])\n",
    "    break"
   ]
  },
  {
   "cell_type": "code",
   "execution_count": null,
   "id": "living-helen",
   "metadata": {},
   "outputs": [],
   "source": [
    "bids = []\n",
    "created_dates = []\n",
    "\n",
    "for event in events_data:\n",
    "    if event[\"bid_amount\"]:\n",
    "        created_dates.append(parse(event[\"created_date\"]))\n",
    "        bids.append(float(event[\"bid_amount\"]) / 1e18)\n",
    "bids = np.array(bids)"
   ]
  },
  {
   "cell_type": "code",
   "execution_count": null,
   "id": "economic-inspection",
   "metadata": {},
   "outputs": [],
   "source": [
    "fig, ax = plt.subplots()\n",
    "#ax.set_yscale(\"log\")\n",
    "dates = matplotlib.dates.date2num(created_dates)\n",
    "ax.plot_date(dates, bids, 'o', alpha=0.5)\n",
    "fig.autofmt_xdate()\n",
    "ax.set_ylabel(\"Bid Price (ETH)\")\n",
    "ax.axhline(0.06, color=\"tab:orange\", linestyle=\"--\", label=\"Current OpenSea floor price\")\n",
    "ax.legend()\n",
    "ax.set_title(f\"Variation of bids with time (Bids under floor = {len(bids[bids < 0.06]) / len(bids) * 100:.1f}%)\")\n",
    "fig.savefig(os.path.join(RESULT_FOLDER, \"bid_price_variation_with_time.jpg\"), bbox_inches=\"tight\", dpi=600)"
   ]
  },
  {
   "cell_type": "markdown",
   "id": "forced-tower",
   "metadata": {},
   "source": [
    "# Great Apes held by addresses"
   ]
  },
  {
   "cell_type": "code",
   "execution_count": 17,
   "id": "obvious-disaster",
   "metadata": {},
   "outputs": [],
   "source": [
    "ape_contract = eth_api.get_contract(\"0xA0F38233688bB578c0a88102A95b846c18bc0bA7\")"
   ]
  },
  {
   "cell_type": "code",
   "execution_count": 18,
   "id": "injured-rendering",
   "metadata": {},
   "outputs": [
    {
     "name": "stderr",
     "output_type": "stream",
     "text": [
      "9999: 100%|████████████████████████████████████████████████████████████████████████████████████████████████████████████████████| 10000/10000 [41:25<00:00,  4.02it/s]\n"
     ]
    }
   ],
   "source": [
    "df = pd.DataFrame(columns=[\"Address\", \"ETH_balance\", \"Great_apes\"])\n",
    "\n",
    "pbar = tqdm(addresses)\n",
    "\n",
    "for idx, address in enumerate(pbar):\n",
    "    pbar.set_description(f\"{idx}\")\n",
    "    df.loc[idx] = [address, eth_api.get_eth_balance(address), eth_api.get_contract_balance(ape_contract, address)]"
   ]
  },
  {
   "cell_type": "code",
   "execution_count": null,
   "id": "contemporary-petite",
   "metadata": {},
   "outputs": [],
   "source": [
    "df = df.sort_values(\"Great_apes\", ascending=False)"
   ]
  },
  {
   "cell_type": "code",
   "execution_count": null,
   "id": "abandoned-creature",
   "metadata": {},
   "outputs": [],
   "source": [
    "etherscan_links = []\n",
    "for address in df[\"Address\"]:\n",
    "    etherscan_links.append(f\"https://etherscan.io/address/{address}\")\n",
    "df[\"Etherscan_link\"] = etherscan_links\n",
    "\n",
    "opensea_links = []\n",
    "for address in df[\"Address\"]:\n",
    "    opensea_links.append(f\"https://opensea.io/{address}\")\n",
    "df[\"OpenSea_link\"] = opensea_links"
   ]
  },
  {
   "cell_type": "code",
   "execution_count": 19,
   "id": "naked-figure",
   "metadata": {},
   "outputs": [],
   "source": [
    "df.to_excel(os.path.join(RESULT_FOLDER, \"ape_holders_addresses_balances_and_holdings_10k.xlsx\"), index=False)"
   ]
  },
  {
   "cell_type": "code",
   "execution_count": 20,
   "id": "dated-surface",
   "metadata": {},
   "outputs": [],
   "source": [
    "df = pd.read_excel(os.path.join(RESULT_FOLDER, \"ape_holders_addresses_balances_and_holdings_10k.xlsx\"))"
   ]
  },
  {
   "cell_type": "code",
   "execution_count": 41,
   "id": "82552b7b-6ac9-471c-8f26-bcf5c26a9cb9",
   "metadata": {},
   "outputs": [
    {
     "data": {
      "text/plain": [
       "9484"
      ]
     },
     "execution_count": 41,
     "metadata": {},
     "output_type": "execute_result"
    }
   ],
   "source": [
    "df2 = df.drop_duplicates(ignore_index=True)\n",
    "df2.drop_duplicates(\"Address\")[\"Great_apes\"].sum()"
   ]
  },
  {
   "cell_type": "code",
   "execution_count": 21,
   "id": "b134868d-229b-4063-944a-0ffee0b92dc2",
   "metadata": {},
   "outputs": [
    {
     "data": {
      "text/plain": [
       "635532"
      ]
     },
     "execution_count": 21,
     "metadata": {},
     "output_type": "execute_result"
    }
   ],
   "source": [
    "df[\"Great_apes\"].sum()"
   ]
  },
  {
   "cell_type": "code",
   "execution_count": 28,
   "id": "ceeae989-f764-4d64-9412-f054082de22d",
   "metadata": {},
   "outputs": [
    {
     "data": {
      "text/plain": [
       "10800"
      ]
     },
     "execution_count": 28,
     "metadata": {},
     "output_type": "execute_result"
    }
   ],
   "source": [
    "df.drop_duplicates()[\"Great_apes\"].sum()"
   ]
  },
  {
   "cell_type": "code",
   "execution_count": 25,
   "id": "48a055a1-2136-4465-bc01-55c25acbdd25",
   "metadata": {},
   "outputs": [
    {
     "data": {
      "text/plain": [
       "9484"
      ]
     },
     "execution_count": 25,
     "metadata": {},
     "output_type": "execute_result"
    }
   ],
   "source": [
    "df.drop_duplicates(\"Address\")[\"Great_apes\"].sum()"
   ]
  },
  {
   "cell_type": "code",
   "execution_count": null,
   "id": "bd708c96-4058-4414-a965-d3237a9b877e",
   "metadata": {},
   "outputs": [],
   "source": [
    "np.median(df[\"ETH_balance\"][df[\"Great_apes\"] < 5])"
   ]
  },
  {
   "cell_type": "code",
   "execution_count": null,
   "id": "d114bc8e-7796-432e-8c27-1674994af822",
   "metadata": {},
   "outputs": [],
   "source": [
    "np.median(df[\"ETH_balance\"][df[\"Great_apes\"] > 5])"
   ]
  },
  {
   "cell_type": "code",
   "execution_count": null,
   "id": "9a2ceeff-d217-4523-9532-b0c2a0608d26",
   "metadata": {},
   "outputs": [],
   "source": [
    "len(df[\"Great_apes\"][df[\"Great_apes\"] < 5]) / (len(df[\"Great_apes\"][df[\"Great_apes\"] > 5]) + len(df[\"Great_apes\"][df[\"Great_apes\"] < 5])) * 100"
   ]
  },
  {
   "cell_type": "code",
   "execution_count": null,
   "id": "distinguished-nickel",
   "metadata": {},
   "outputs": [],
   "source": [
    "fig, ax = plt.subplots()\n",
    "\n",
    "_, bins, _ = ax.hist(df[\"Great_apes\"], bins=30, alpha=0.5, range=[0, 30], label=f\"Median = {int(np.median(df['Great_apes']))} Apes\")\n",
    "\n",
    "ax.set_ylabel(\"No. of wallets\")\n",
    "ax.set_xlabel(\"Apes in wallet\")\n",
    "ax.legend()\n",
    "#fig.savefig(os.path.join(RESULT_FOLDER, \"eth_weth_holding_of_great_ape_owners.jpg\"), bbox_inches=\"tight\", dpi=600)"
   ]
  },
  {
   "cell_type": "code",
   "execution_count": null,
   "id": "verbal-territory",
   "metadata": {},
   "outputs": [],
   "source": [
    "df.sort_values(\"ETH_balance\", ascending=False).head(10)"
   ]
  },
  {
   "cell_type": "code",
   "execution_count": null,
   "id": "blessed-student",
   "metadata": {},
   "outputs": [],
   "source": [
    "df.sort_values(\"Great_apes\", ascending=False).head(10)"
   ]
  },
  {
   "cell_type": "code",
   "execution_count": null,
   "id": "e89102c9-278a-4791-b89d-80c29a75e6e1",
   "metadata": {},
   "outputs": [],
   "source": []
  },
  {
   "cell_type": "markdown",
   "id": "e680daf2-73cf-4845-ab13-055359c49412",
   "metadata": {},
   "source": [
    "# Further analysis"
   ]
  }
 ],
 "metadata": {
  "kernelspec": {
   "display_name": "pymparoo",
   "language": "python",
   "name": "pymparoo"
  },
  "language_info": {
   "codemirror_mode": {
    "name": "ipython",
    "version": 3
   },
   "file_extension": ".py",
   "mimetype": "text/x-python",
   "name": "python",
   "nbconvert_exporter": "python",
   "pygments_lexer": "ipython3",
   "version": "3.8.8"
  }
 },
 "nbformat": 4,
 "nbformat_minor": 5
}
