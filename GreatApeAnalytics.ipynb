{
 "cells": [
  {
   "cell_type": "code",
   "execution_count": 1,
   "id": "bulgarian-ethics",
   "metadata": {},
   "outputs": [],
   "source": [
    "import os\n",
    "from datetime import datetime\n",
    "from dateutil.parser import parse\n",
    "import time\n",
    "\n",
    "import numpy as np\n",
    "import pandas as pd\n",
    "import scipy.stats as scs\n",
    "import matplotlib\n",
    "import matplotlib.pyplot as plt\n",
    "import matplotlib.dates as mdates\n",
    "from pprint import pprint\n",
    "from tqdm import tqdm\n",
    "\n",
    "from src.nft_analytics import NFTAnalytics\n",
    "from src.ethereum_api import EthereumAPI"
   ]
  },
  {
   "cell_type": "code",
   "execution_count": 4,
   "id": "violent-registration",
   "metadata": {},
   "outputs": [
    {
     "name": "stdout",
     "output_type": "stream",
     "text": [
      "2021-09-13 18:53:37,719 - src.ethereum_api - INFO - Connected to Infura endpoint.\n"
     ]
    }
   ],
   "source": [
    "gaa = NFTAnalytics(\"0xA0F38233688bB578c0a88102A95b846c18bc0bA7\")\n",
    "eth_api = EthereumAPI()\n",
    "DATA_FOLDER, RESULT_FOLDER = gaa.make_directories(\"GreatApeSociety\")\n",
    "TIMESTAMP = datetime.now().strftime(\"%Y-%m-%d_\")"
   ]
  },
  {
   "cell_type": "markdown",
   "id": "ambient-details",
   "metadata": {},
   "source": [
    "# Fetch all GreatApe data from OpenSea\n",
    "\n",
    "Note that this can fail if OpenSea decides to rate limit. Works best at night when the load on their servers is low."
   ]
  },
  {
   "cell_type": "code",
   "execution_count": null,
   "id": "personal-concern",
   "metadata": {},
   "outputs": [],
   "source": [
    "asset_data = gaa.fetch_data(max_offset=10000)"
   ]
  },
  {
   "cell_type": "markdown",
   "id": "architectural-chosen",
   "metadata": {},
   "source": [
    "# Save list to json file for further use"
   ]
  },
  {
   "cell_type": "code",
   "execution_count": null,
   "id": "hearing-bidding",
   "metadata": {},
   "outputs": [],
   "source": [
    "gaa.save_json(asset_data, filename=os.path.join(DATA_FOLDER, \"data.json\"))"
   ]
  },
  {
   "cell_type": "markdown",
   "id": "alleged-jackson",
   "metadata": {},
   "source": [
    "# Load json file"
   ]
  },
  {
   "cell_type": "code",
   "execution_count": null,
   "id": "gentle-repository",
   "metadata": {},
   "outputs": [],
   "source": [
    "asset_data = gaa.load_json(filename=os.path.join(DATA_FOLDER, \"data.json\"))\n",
    "OPENSEA_FLOOR_PRICE = gaa.get_floor_price(asset_data)"
   ]
  },
  {
   "cell_type": "code",
   "execution_count": null,
   "id": "c88fd80d-8a1e-4dbd-b067-eddd8f48484e",
   "metadata": {},
   "outputs": [],
   "source": [
    "def missing_elements_in_sorted_list(L):\n",
    "    start, end = L[0], L[-1]\n",
    "    return sorted(set(range(start, end + 1)).difference(L))"
   ]
  },
  {
   "cell_type": "markdown",
   "id": "downtown-lambda",
   "metadata": {},
   "source": [
    "## Scatter plot of listing prices with time"
   ]
  },
  {
   "cell_type": "code",
   "execution_count": null,
   "id": "magnetic-march",
   "metadata": {},
   "outputs": [],
   "source": [
    "created_dates = []\n",
    "listing_prices = []\n",
    "for asset in asset_data:\n",
    "    if asset[\"sell_orders\"]:\n",
    "        created_dates.append(parse(asset[\"sell_orders\"][0][\"created_date\"]))\n",
    "        listing_prices.append(float(asset[\"sell_orders\"][0][\"base_price\"]) / 1e18)\n",
    "listing_prices = np.array(listing_prices)"
   ]
  },
  {
   "cell_type": "code",
   "execution_count": null,
   "id": "genuine-retirement",
   "metadata": {},
   "outputs": [],
   "source": [
    "fig, ax = plt.subplots()\n",
    "\n",
    "dates = matplotlib.dates.date2num(created_dates)\n",
    "ax.plot_date(dates, listing_prices, 'o', alpha=0.5)\n",
    "fig.autofmt_xdate()\n",
    "ax.set_ylim(-0.01, 0.2)\n",
    "ax.set_ylabel(\"Listing Price (ETH)\")\n",
    "ax.axhline(OPENSEA_FLOOR_PRICE, color=\"tab:orange\", linestyle=\"--\", label=\"Current OpenSea floor price\")\n",
    "ax.set_title(\"Variation of listing price with time\")\n",
    "ax.legend()\n",
    "\n",
    "#fig.savefig(os.path.join(RESULT_FOLDER, TIMESTAMP + \"listing_price_variation_with_time_near_floor.jpg\"), bbox_inches=\"tight\", dpi=600)"
   ]
  },
  {
   "cell_type": "code",
   "execution_count": null,
   "id": "adolescent-source",
   "metadata": {},
   "outputs": [],
   "source": [
    "# Cost to cleanup floor\n",
    "np.sum(listing_prices[listing_prices < 0.1])"
   ]
  },
  {
   "cell_type": "markdown",
   "id": "personalized-typing",
   "metadata": {},
   "source": [
    "## Histogram of listing prices"
   ]
  },
  {
   "cell_type": "code",
   "execution_count": null,
   "id": "chronic-ottawa",
   "metadata": {},
   "outputs": [],
   "source": [
    "upper_limit = 3\n",
    "\n",
    "fig, ax = plt.subplots()\n",
    "_, bins, _ = ax.hist(listing_prices, histtype='stepfilled', density=True, bins=100, range=[0, upper_limit], alpha=0.5)\n",
    "\n",
    "params = scs.lognorm.fit(listing_prices[listing_prices < upper_limit])\n",
    "x_bins = np.linspace(1e-2, np.max(listing_prices[listing_prices < upper_limit]), len(bins)*100) \n",
    "ax.plot(x_bins, scs.lognorm.pdf(x_bins, *params), 'tab:red', linewidth=2, label=f\"Lognormal distribution\\nMean = {params[2]:.2f} ETH\")\n",
    "\n",
    "ax.set_xlabel(\"Listing Price (ETH)\")\n",
    "ax.set_ylabel(\"No. of listings (norm.)\")\n",
    "ax.legend()\n",
    "\n",
    "ax.set_xscale(\"log\")\n",
    "fig.savefig(os.path.join(RESULT_FOLDER, TIMESTAMP + \"histogram_listing_price_variation_near_floor.jpg\"), bbox_inches=\"tight\", dpi=600)"
   ]
  },
  {
   "cell_type": "markdown",
   "id": "parallel-wheel",
   "metadata": {},
   "source": [
    "# Sale price with time"
   ]
  },
  {
   "cell_type": "code",
   "execution_count": null,
   "id": "human-spirit",
   "metadata": {},
   "outputs": [],
   "source": [
    "sale_prices = []\n",
    "timestamps = []\n",
    "\n",
    "for asset in asset_data:\n",
    "    if asset[\"last_sale\"]:\n",
    "        if asset[\"last_sale\"][\"event_type\"] == \"successful\":\n",
    "            timestamps.append(parse(asset[\"last_sale\"][\"transaction\"][\"timestamp\"]))\n",
    "            sale_prices.append(float(asset[\"last_sale\"][\"total_price\"]) / 1e18)\n",
    "            \n",
    "sale_prices = np.array(sale_prices)"
   ]
  },
  {
   "cell_type": "code",
   "execution_count": null,
   "id": "typical-order",
   "metadata": {},
   "outputs": [],
   "source": [
    "fig, ax = plt.subplots()\n",
    "\n",
    "dates = matplotlib.dates.date2num(timestamps)\n",
    "ax.plot_date(dates, sale_prices, 'o', alpha=0.5)\n",
    "fig.autofmt_xdate()\n",
    "ax.set_ylim(-0.01, 0.3)\n",
    "ax.set_ylabel(\"Sale Price (ETH)\")\n",
    "ax.axhline(OPENSEA_FLOOR_PRICE, color=\"tab:orange\", linestyle=\"--\", label=\"Current OpenSea floor price\")\n",
    "ax.set_title(\"Variation of sale price with time\")\n",
    "ax.legend()\n",
    "\n",
    "fig.savefig(os.path.join(RESULT_FOLDER, TIMESTAMP + \"sale_price_variation_with_time_near_floor.jpg\"), bbox_inches=\"tight\", dpi=600)"
   ]
  },
  {
   "cell_type": "markdown",
   "id": "extensive-glasgow",
   "metadata": {},
   "source": [
    "# Histogram of sale prices"
   ]
  },
  {
   "cell_type": "code",
   "execution_count": null,
   "id": "signed-september",
   "metadata": {},
   "outputs": [],
   "source": [
    "upper_limit = 1\n",
    "\n",
    "fig, ax = plt.subplots()\n",
    "_, bins, _ = ax.hist(sale_prices, density=True, bins=60, range=[0, upper_limit], alpha=0.5)\n",
    "\n",
    "params = scs.lognorm.fit(sale_prices[sale_prices < upper_limit])\n",
    "x_bins = np.linspace(1e-2, np.max(sale_prices[sale_prices < upper_limit]), len(bins)*100) \n",
    "ax.plot(x_bins, scs.lognorm.pdf(x_bins, *params), 'tab:red', linewidth=2, label=f\"Lognormal distribution\\nMean = {params[2]:.2f} ETH\")\n",
    "\n",
    "ax.set_xlabel(\"Sale Price (ETH)\")\n",
    "ax.set_ylabel(\"No. of sales (norm.)\")\n",
    "ax.legend()\n",
    "ax.set_xscale(\"log\")\n",
    "\n",
    "fig.savefig(os.path.join(RESULT_FOLDER, TIMESTAMP + \"histogram_sale_price_variation_near_floor.jpg\"), bbox_inches=\"tight\", dpi=600)"
   ]
  },
  {
   "cell_type": "markdown",
   "id": "varying-haven",
   "metadata": {
    "jp-MarkdownHeadingCollapsed": true,
    "tags": []
   },
   "source": [
    "# Time histogram of number of sales (defined by timestamps within bin)"
   ]
  },
  {
   "cell_type": "code",
   "execution_count": null,
   "id": "dominant-failure",
   "metadata": {},
   "outputs": [],
   "source": [
    "upper_limit = 1\n",
    "\n",
    "fig, ax = plt.subplots()\n",
    "\n",
    "unix_timestamps = []\n",
    "\n",
    "for times in timestamps:\n",
    "    unix_timestamps.append(times.timestamp())\n",
    "\n",
    "mpl_data = mdates.epoch2num(unix_timestamps)\n",
    "_, bins, _ = ax.hist(mpl_data, bins=50, alpha=0.5)\n",
    "\n",
    "ax.xaxis.set_major_formatter(mdates.DateFormatter('%d.%m'))\n",
    "ax.set_ylabel(\"No. of sales\")\n",
    "\n",
    "fig.savefig(os.path.join(RESULT_FOLDER, TIMESTAMP + \"histogram_number_of_sales_with_time.jpg\"), bbox_inches=\"tight\", dpi=600)"
   ]
  },
  {
   "cell_type": "code",
   "execution_count": null,
   "id": "0cf0b445-1f5c-4af5-a046-ae990efa76cf",
   "metadata": {},
   "outputs": [],
   "source": [
    "df = pd.DataFrame(columns=[\"Date\", \"Sales\"])\n",
    "\n",
    "df[\"Date\"] = sorted(timestamps)\n",
    "df[\"Sales\"] = np.ones(len(timestamps))\n",
    "df = df.groupby(df['Date'].dt.date).sum()"
   ]
  },
  {
   "cell_type": "code",
   "execution_count": null,
   "id": "e26a3257-fa41-49e3-9590-e62a5a90e4f9",
   "metadata": {},
   "outputs": [],
   "source": [
    "df.to_excel(os.path.join(RESULT_FOLDER, TIMESTAMP + \"sales_by_day.xlsx\"), index=True)"
   ]
  },
  {
   "cell_type": "markdown",
   "id": "prescription-arizona",
   "metadata": {},
   "source": [
    "# Time histogram of number of sales over a day (defined by timestamps within bin)"
   ]
  },
  {
   "cell_type": "code",
   "execution_count": null,
   "id": "american-kinase",
   "metadata": {},
   "outputs": [],
   "source": [
    "fig, ax = plt.subplots()\n",
    "\n",
    "hours = []\n",
    "\n",
    "for times in timestamps:\n",
    "    hours.append(times.hour)\n",
    "    \n",
    "_, bins, _ = ax.hist(hours, bins=24, alpha=0.5)\n",
    "\n",
    "ax.set_ylabel(\"No. of sales\")\n",
    "ax.set_xlabel(\"Time of day in hours (UTC)\")\n",
    "ax.set_yscale(\"log\")\n",
    "#fig.savefig(os.path.join(RESULT_FOLDER, TIMESTAMP + \"histogram_number_of_sales_with_time_of_day.jpg\"), bbox_inches=\"tight\", dpi=600)"
   ]
  },
  {
   "cell_type": "markdown",
   "id": "coupled-crash",
   "metadata": {},
   "source": [
    "# Median price of traits"
   ]
  },
  {
   "cell_type": "code",
   "execution_count": null,
   "id": "objective-vanilla",
   "metadata": {},
   "outputs": [],
   "source": [
    "traits = {\n",
    "    \"Clothes\" : \"Hufflepuff\",\n",
    "    \"Eyes\": \"Orange_Glasses\",\n",
    "    \"Fur\": \"Gold_Skin\",\n",
    "    \"Background\": \"Carolina\",\n",
    "    \"Mouth\": \"Laughing_Mouth\",\n",
    "    \"Earring\": \"Green_Red_Earring\",\n",
    "    \"Hat\": \"Fire_Hair\"\n",
    "}\n",
    "\n",
    "prices = gaa.get_median_prices(asset_data, traits)\n",
    "print(f\"Average price = {np.average(prices):.2f}, Max price = {np.max(prices):.2f}, Min price = {np.min(prices):.2f}\")"
   ]
  },
  {
   "cell_type": "markdown",
   "id": "variable-hostel",
   "metadata": {},
   "source": [
    "# Most valuable traits based on listing price"
   ]
  },
  {
   "cell_type": "code",
   "execution_count": null,
   "id": "compact-series",
   "metadata": {},
   "outputs": [],
   "source": [
    "for trait in traits.keys():\n",
    "    trait_dict = gaa.get_trait_type_median_price(asset_data, trait)\n",
    "    val = {k: trait_dict[k] for k in list(trait_dict)[:1]}\n",
    "    print(f\"{trait}: {val}\")"
   ]
  },
  {
   "cell_type": "markdown",
   "id": "cosmetic-badge",
   "metadata": {},
   "source": [
    "# ETH in seller's wallet"
   ]
  },
  {
   "cell_type": "code",
   "execution_count": null,
   "id": "muslim-safety",
   "metadata": {},
   "outputs": [],
   "source": [
    "eth_in_wallet_buyer = []\n",
    "eth_in_wallet_seller = []\n",
    "\n",
    "for asset in asset_data:\n",
    "    if asset[\"last_sale\"]:\n",
    "        if asset[\"last_sale\"][\"event_type\"] == \"successful\":\n",
    "            seller_address = asset[\"last_sale\"][\"transaction\"][\"from_account\"][\"address\"]\n",
    "            eth_in_wallet_seller.append(eth_api.get_eth_balance(seller_address))\n",
    "            \n",
    "            # buyer_address = asset[\"last_sale\"][\"transaction\"][\"to_account\"][\"address\"]\n",
    "            # eth_in_wallet_buyer.append(get_total_eth_weth_balance(weth_contract, buyer_address))"
   ]
  },
  {
   "cell_type": "code",
   "execution_count": null,
   "id": "designed-capital",
   "metadata": {},
   "outputs": [],
   "source": [
    "gaa.save_json(eth_in_wallet_seller, filename=os.path.join(DATA_FOLDER, \"eth_in_wallet_seller.json\"))"
   ]
  },
  {
   "cell_type": "code",
   "execution_count": null,
   "id": "unlike-husband",
   "metadata": {},
   "outputs": [],
   "source": [
    "eth_in_wallet_seller = gaa.load_json(filename=os.path.join(DATA_FOLDER, \"eth_in_wallet_seller.json\"))\n",
    "eth_in_wallet_seller = np.array(eth_in_wallet_seller)"
   ]
  },
  {
   "cell_type": "code",
   "execution_count": null,
   "id": "gentle-thriller",
   "metadata": {},
   "outputs": [],
   "source": [
    "fig, ax = plt.subplots()\n",
    "\n",
    "upper_limit = 100\n",
    "\n",
    "_, bins, _ = ax.hist(eth_in_wallet_seller, density=True, bins=100, alpha=0.5, range=[0, upper_limit], label=f\"Median = {np.median(eth_in_wallet_seller):.2f} ETH\")\n",
    "\n",
    "print(f\"Under {upper_limit} ETH = {len(eth_in_wallet_seller[eth_in_wallet_seller < upper_limit]) / len(eth_in_wallet_seller) * 100:.2f}%\")\n",
    "print(f\"Over {upper_limit} ETH = {len(eth_in_wallet_seller[eth_in_wallet_seller > upper_limit]) / len(eth_in_wallet_seller) * 100:.2f}%\")\n",
    "\n",
    "ax.set_ylabel(\"No. of wallets\")\n",
    "ax.set_yscale(\"log\")\n",
    "ax.set_xscale(\"log\")\n",
    "\n",
    "ax.set_xlabel(\"ETH in wallet\")\n",
    "ax.legend()\n",
    "\n",
    "fig.savefig(os.path.join(RESULT_FOLDER, TIMESTAMP + \"eth_in_seller_wallet.jpg\"), bbox_inches=\"tight\", dpi=600)"
   ]
  },
  {
   "cell_type": "markdown",
   "id": "necessary-collapse",
   "metadata": {},
   "source": [
    "# Great Apes held by address (OpenSea API)"
   ]
  },
  {
   "cell_type": "code",
   "execution_count": null,
   "id": "flexible-imagination",
   "metadata": {},
   "outputs": [],
   "source": [
    "addresses = []\n",
    "\n",
    "for asset in asset_data:\n",
    "    addresses.append(asset[\"owner\"][\"address\"])"
   ]
  },
  {
   "cell_type": "code",
   "execution_count": null,
   "id": "8a27ac1e-8941-4f1d-87f1-8e3e6a833d6c",
   "metadata": {},
   "outputs": [],
   "source": [
    "apes_held = {}\n",
    "\n",
    "for asset in asset_data:\n",
    "    apes_held[asset[\"owner\"][\"address\"]] = 0\n",
    "     \n",
    "for asset in asset_data:\n",
    "    apes_held[asset[\"owner\"][\"address\"]] += 1"
   ]
  },
  {
   "cell_type": "code",
   "execution_count": null,
   "id": "00823262-efcc-450d-b66f-99b21e1f32fb",
   "metadata": {},
   "outputs": [],
   "source": [
    "sum(apes_held.values())"
   ]
  },
  {
   "cell_type": "code",
   "execution_count": null,
   "id": "59480063-5168-44db-aaed-a773e942c15f",
   "metadata": {},
   "outputs": [],
   "source": [
    "df = pd.DataFrame(columns=[\"Address\", \"Great_apes\"])\n",
    "\n",
    "for idx, (address, num_apes) in enumerate(apes_held.items()):\n",
    "    df.loc[idx] = [address, num_apes]"
   ]
  },
  {
   "cell_type": "code",
   "execution_count": null,
   "id": "88db233b-f855-4d83-9c86-953de3299a96",
   "metadata": {},
   "outputs": [],
   "source": [
    "etherscan_links = []\n",
    "for address in df[\"Address\"]:\n",
    "    etherscan_links.append(f\"https://etherscan.io/address/{address}\")\n",
    "df[\"Etherscan_link\"] = etherscan_links\n",
    "\n",
    "opensea_links = []\n",
    "for address in df[\"Address\"]:\n",
    "    opensea_links.append(f\"https://opensea.io/{address}\")\n",
    "df[\"OpenSea_link\"] = opensea_links"
   ]
  },
  {
   "cell_type": "code",
   "execution_count": null,
   "id": "c3bfc56d-3ae1-41f1-ab39-fc51fdec34ad",
   "metadata": {},
   "outputs": [],
   "source": [
    "df = df.sort_values(\"Great_apes\", ascending=False)"
   ]
  },
  {
   "cell_type": "code",
   "execution_count": null,
   "id": "4aec2425-eac1-4e2e-9226-e918cdc66caf",
   "metadata": {},
   "outputs": [],
   "source": [
    "df.to_excel(os.path.join(RESULT_FOLDER, TIMESTAMP + \"ape_holders_addresses_and_holdings.xlsx\"), index=False)"
   ]
  },
  {
   "cell_type": "code",
   "execution_count": null,
   "id": "7033300d-cea1-4df8-87af-6bfd13e2170c",
   "metadata": {},
   "outputs": [],
   "source": [
    "df = pd.read_excel(os.path.join(RESULT_FOLDER, \"2021-09-03_ape_holders_addresses_and_holdings.xlsx\"))"
   ]
  },
  {
   "cell_type": "code",
   "execution_count": null,
   "id": "61f2e878-9de0-4ef9-a53d-9698b1a16ba0",
   "metadata": {},
   "outputs": [],
   "source": [
    "df[df[\"Great_apes\"] >= 5]"
   ]
  },
  {
   "cell_type": "markdown",
   "id": "607c0381-e1d5-4a6a-9b6f-a6cf777b1ae9",
   "metadata": {},
   "source": [
    "# ROZ\n"
   ]
  },
  {
   "cell_type": "code",
   "execution_count": null,
   "id": "db0025cb-d012-4ebe-915c-316344c829f5",
   "metadata": {},
   "outputs": [],
   "source": [
    "asset_data2 = roz.fetch_data(max_offset=1000)"
   ]
  },
  {
   "cell_type": "code",
   "execution_count": null,
   "id": "41fc2d05-aec6-424c-b4dd-48627783d6da",
   "metadata": {},
   "outputs": [],
   "source": [
    "addresses = []\n",
    "\n",
    "for asset in asset_data2:\n",
    "    addresses.append(asset[\"owner\"][\"address\"])"
   ]
  },
  {
   "cell_type": "code",
   "execution_count": null,
   "id": "013a2857-ed34-431e-b60b-f9a9e00e12cb",
   "metadata": {},
   "outputs": [],
   "source": [
    "roz_held = {}\n",
    "\n",
    "for asset in asset_data2:\n",
    "    roz_held[asset[\"owner\"][\"address\"]] = 0\n",
    "     \n",
    "for asset in asset_data2:\n",
    "    roz_held[asset[\"owner\"][\"address\"]] += 1"
   ]
  },
  {
   "cell_type": "code",
   "execution_count": null,
   "id": "ba4b04d8-aaf6-4a3e-b7e9-058284d5ee99",
   "metadata": {},
   "outputs": [],
   "source": [
    "sum(roz_held.values())"
   ]
  },
  {
   "cell_type": "code",
   "execution_count": null,
   "id": "1a7f7ed1-e841-420d-9d3f-12fff975e2b5",
   "metadata": {},
   "outputs": [],
   "source": [
    "df2 = pd.DataFrame(columns=[\"Address\", \"ROZ\", \"Great_apes\"])\n",
    "\n",
    "idx = 0\n",
    "for idx1, (address_roz, rozs) in enumerate(roz_held.items()):\n",
    "    for idx2, address_apes in enumerate(df[\"Address\"]):\n",
    "        if address_roz == address_apes:\n",
    "            df2.loc[idx] = [address_roz, rozs, df[\"Great_apes\"][idx2]]\n",
    "            idx += 1"
   ]
  },
  {
   "cell_type": "code",
   "execution_count": null,
   "id": "ac28e2af-02a9-4fd4-a04d-788758f109c1",
   "metadata": {},
   "outputs": [],
   "source": [
    "etherscan_links = []\n",
    "for address in df2[\"Address\"]:\n",
    "    etherscan_links.append(f\"https://etherscan.io/address/{address}\")\n",
    "df2[\"Etherscan_link\"] = etherscan_links\n",
    "\n",
    "opensea_links = []\n",
    "for address in df2[\"Address\"]:\n",
    "    opensea_links.append(f\"https://opensea.io/{address}\")\n",
    "df2[\"OpenSea_link\"] = opensea_links"
   ]
  },
  {
   "cell_type": "code",
   "execution_count": null,
   "id": "211bd197-8c38-4a72-baad-6cbed655a99e",
   "metadata": {},
   "outputs": [],
   "source": [
    "df2.to_excel(os.path.join(RESULT_FOLDER, TIMESTAMP + \"ape_holders_who_ape_roz_holders_addresses_and_holdings.xlsx\"), index=False)"
   ]
  },
  {
   "cell_type": "code",
   "execution_count": null,
   "id": "ca6d36eb-daa4-441a-b1a9-64781bb0aadc",
   "metadata": {},
   "outputs": [],
   "source": [
    "df.to_excel(os.path.join(RESULT_FOLDER, TIMESTAMP + \"roz_holders_addresses.xlsx\"), index=False)"
   ]
  },
  {
   "cell_type": "code",
   "execution_count": null,
   "id": "237f9689-08dd-4ef6-a675-313ee5cb5a02",
   "metadata": {},
   "outputs": [],
   "source": []
  },
  {
   "cell_type": "markdown",
   "id": "5b13dc68-d22a-4edc-898e-ca0073d6923e",
   "metadata": {},
   "source": [
    "# Variation of bid price with time"
   ]
  },
  {
   "cell_type": "code",
   "execution_count": null,
   "id": "pursuant-warren",
   "metadata": {},
   "outputs": [],
   "source": [
    "events_data = gaa.fetch_events(max_offset=10000)"
   ]
  },
  {
   "cell_type": "code",
   "execution_count": null,
   "id": "detected-suffering",
   "metadata": {},
   "outputs": [],
   "source": [
    "len(events_data)"
   ]
  },
  {
   "cell_type": "code",
   "execution_count": null,
   "id": "compact-frank",
   "metadata": {},
   "outputs": [],
   "source": [
    "gaa.save_json(events_data, filename=os.path.join(DATA_FOLDER, \"events.json\"))"
   ]
  },
  {
   "cell_type": "code",
   "execution_count": 5,
   "id": "missing-contributor",
   "metadata": {},
   "outputs": [],
   "source": [
    "events_data = gaa.load_json(filename=os.path.join(DATA_FOLDER, \"events.json\"))"
   ]
  },
  {
   "cell_type": "code",
   "execution_count": 6,
   "id": "living-helen",
   "metadata": {},
   "outputs": [],
   "source": [
    "bids = []\n",
    "created_dates = []\n",
    "\n",
    "for event in events_data:\n",
    "    if event[\"bid_amount\"]:\n",
    "        created_dates.append(parse(event[\"created_date\"]))\n",
    "        bids.append(float(event[\"bid_amount\"]) / 1e18)\n",
    "bids = np.array(bids)"
   ]
  },
  {
   "cell_type": "code",
   "execution_count": 7,
   "id": "economic-inspection",
   "metadata": {},
   "outputs": [
    {
     "data": {
      "text/plain": [
       "Text(0.5, 1.0, 'Variation of bids with time (Bids under floor = 99.7%)')"
      ]
     },
     "execution_count": 7,
     "metadata": {},
     "output_type": "execute_result"
    },
    {
     "data": {
      "image/png": "[encoded data removed]",
      "text/plain": [
       "<Figure size 432x288 with 1 Axes>"
      ]
     },
     "metadata": {
      "needs_background": "light"
     },
     "output_type": "display_data"
    }
   ],
   "source": [
    "fig, ax = plt.subplots()\n",
    "#ax.set_yscale(\"log\")\n",
    "dates = matplotlib.dates.date2num(created_dates)\n",
    "ax.plot_date(dates, bids, 'o', alpha=0.5)\n",
    "fig.autofmt_xdate()\n",
    "ax.set_ylabel(\"Bid Price (ETH)\")\n",
    "ax.axhline(OPENSEA_FLOOR_PRICE, color=\"tab:orange\", linestyle=\"--\", label=\"Current OpenSea floor price\")\n",
    "ax.legend()\n",
    "ax.set_title(f\"Variation of bids with time (Bids under floor = {len(bids[bids < 0.06]) / len(bids) * 100:.1f}%)\")\n",
    "#fig.savefig(os.path.join(RESULT_FOLDER, TIMESTAMP + \"bid_price_variation_with_time.jpg\"), bbox_inches=\"tight\", dpi=600)"
   ]
  }
 ],
 "metadata": {
  "kernelspec": {
   "display_name": "pymparoo",
   "language": "python",
   "name": "pymparoo"
  },
  "language_info": {
   "codemirror_mode": {
    "name": "ipython",
    "version": 3
   },
   "file_extension": ".py",
   "mimetype": "text/x-python",
   "name": "python",
   "nbconvert_exporter": "python",
   "pygments_lexer": "ipython3",
   "version": "3.8.8"
  }
 },
 "nbformat": 4,
 "nbformat_minor": 5
}
