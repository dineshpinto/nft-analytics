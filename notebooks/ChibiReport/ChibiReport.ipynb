{
 "cells": [
  {
   "cell_type": "code",
   "execution_count": 1,
   "id": "2c01355f-4485-49fc-9ef5-b5971af21f40",
   "metadata": {
    "pycharm": {
     "name": "#%%\n"
    }
   },
   "outputs": [],
   "source": [
    "import sys\n",
    "\n",
    "import requests\n",
    "import json\n",
    "from pycoingecko import CoinGeckoAPI\n",
    "\n",
    "import pandas as pd\n",
    "from pprint import pprint\n",
    "\n",
    "import seaborn as sns\n",
    "sns.set_theme(style=\"whitegrid\")\n",
    "\n",
    "sys.path.append(\"../..\")"
   ]
  },
  {
   "cell_type": "code",
   "execution_count": 4,
   "id": "0fee3501-777f-4382-9ba3-ba88a95eaf4c",
   "metadata": {
    "pycharm": {
     "name": "#%%\n"
    }
   },
   "outputs": [],
   "source": [
    "collection_slug = \"chibidinos\"\n",
    "url = f\"https://api.opensea.io/api/v1/collection/{collection_slug}\"\n",
    "\n",
    "response = requests.get(url, headers={\"Accept\": \"application/json\"})\n",
    "json_response = json.loads(response.text)"
   ]
  },
  {
   "cell_type": "code",
   "execution_count": 5,
   "id": "6693a154-32f1-4712-b95f-84108f82754e",
   "metadata": {
    "pycharm": {
     "name": "#%%\n"
    }
   },
   "outputs": [],
   "source": [
    "cg = CoinGeckoAPI()\n",
    "eth_price = float(cg.get_price(ids=\"ethereum\", vs_currencies=\"usd\")[\"ethereum\"][\"usd\"])"
   ]
  },
  {
   "cell_type": "code",
   "execution_count": 6,
   "id": "443e695e-6354-4a02-a1e8-2400c45dfb2c",
   "metadata": {
    "pycharm": {
     "name": "#%%\n"
    }
   },
   "outputs": [
    {
     "name": "stdout",
     "output_type": "stream",
     "text": [
      "{'average_price': 0.13089395537572857,\n",
      " 'count': 10000.0,\n",
      " 'floor_price': 0.099,\n",
      " 'market_cap': 1339.6161971830986,\n",
      " 'num_owners': 3200,\n",
      " 'num_reports': 5,\n",
      " 'one_day_average_price': 0.13049999999999998,\n",
      " 'one_day_change': -0.626476443686832,\n",
      " 'one_day_sales': 18.0,\n",
      " 'one_day_volume': 2.3489999999999998,\n",
      " 'seven_day_average_price': 0.13396161971830986,\n",
      " 'seven_day_change': 1.7299863002335532,\n",
      " 'seven_day_sales': 142.0,\n",
      " 'seven_day_volume': 19.02255,\n",
      " 'thirty_day_average_price': 0.1242395179138321,\n",
      " 'thirty_day_change': 0.2253279230055001,\n",
      " 'thirty_day_sales': 441.0,\n",
      " 'thirty_day_volume': 54.78962739999996,\n",
      " 'total_sales': 15451.0,\n",
      " 'total_supply': 10000.0,\n",
      " 'total_volume': 2022.442504510382}\n"
     ]
    }
   ],
   "source": [
    "stats = json_response[\"collection\"][\"stats\"]\n",
    "pprint(stats)"
   ]
  },
  {
   "cell_type": "code",
   "execution_count": 7,
   "id": "dec94dc1-8f2e-4fd8-8982-dd56ffd9fa9d",
   "metadata": {
    "pycharm": {
     "name": "#%%\n"
    }
   },
   "outputs": [
    {
     "data": {
      "text/html": [
       "<div>\n",
       "<style scoped>\n",
       "    .dataframe tbody tr th:only-of-type {\n",
       "        vertical-align: middle;\n",
       "    }\n",
       "\n",
       "    .dataframe tbody tr th {\n",
       "        vertical-align: top;\n",
       "    }\n",
       "\n",
       "    .dataframe thead th {\n",
       "        text-align: right;\n",
       "    }\n",
       "</style>\n",
       "<table border=\"1\" class=\"dataframe\">\n",
       "  <thead>\n",
       "    <tr style=\"text-align: right;\">\n",
       "      <th></th>\n",
       "      <th>Seven Day Metrics</th>\n",
       "      <th>Value</th>\n",
       "    </tr>\n",
       "  </thead>\n",
       "  <tbody>\n",
       "    <tr>\n",
       "      <th>0</th>\n",
       "      <td>Volume</td>\n",
       "      <td>Ξ19.0 ($56442)</td>\n",
       "    </tr>\n",
       "    <tr>\n",
       "      <th>1</th>\n",
       "      <td>Change</td>\n",
       "      <td>Ξ1.73 ($5133)</td>\n",
       "    </tr>\n",
       "    <tr>\n",
       "      <th>2</th>\n",
       "      <td>Average Price</td>\n",
       "      <td>Ξ0.13 ($397)</td>\n",
       "    </tr>\n",
       "    <tr>\n",
       "      <th>3</th>\n",
       "      <td>Sales</td>\n",
       "      <td>142</td>\n",
       "    </tr>\n",
       "  </tbody>\n",
       "</table>\n",
       "</div>"
      ],
      "text/plain": [
       "  Seven Day Metrics           Value\n",
       "0            Volume  Ξ19.0 ($56442)\n",
       "1            Change   Ξ1.73 ($5133)\n",
       "2     Average Price    Ξ0.13 ($397)\n",
       "3             Sales             142"
      ]
     },
     "execution_count": 7,
     "metadata": {},
     "output_type": "execute_result"
    }
   ],
   "source": [
    "df_seven_day_metrics = pd.DataFrame(columns=[\"Seven Day Metrics\", \"Value\"])\n",
    "df_seven_day_metrics[\"Seven Day Metrics\"] = [\"Volume\", \"Change\", \"Average Price\", \"Sales\"]\n",
    "df_seven_day_metrics[\"Value\"] = [\n",
    "    f'Ξ{stats[\"seven_day_volume\"]:.1f} (${eth_price * stats[\"seven_day_volume\"]:.0f})', \n",
    "    f'Ξ{stats[\"seven_day_change\"]:.2f} (${eth_price * stats[\"seven_day_change\"]:.0f})', \n",
    "    f'Ξ{stats[\"seven_day_average_price\"]:.2f} (${eth_price * stats[\"seven_day_average_price\"]:.0f})',\n",
    "    f'{int(stats[\"seven_day_sales\"])}', \n",
    "\n",
    "]\n",
    "df_seven_day_metrics"
   ]
  },
  {
   "cell_type": "code",
   "execution_count": 8,
   "id": "469015f2-ef81-4a7b-9e2c-3598aa64b5c2",
   "metadata": {
    "pycharm": {
     "name": "#%%\n"
    }
   },
   "outputs": [
    {
     "data": {
      "text/html": [
       "<div>\n",
       "<style scoped>\n",
       "    .dataframe tbody tr th:only-of-type {\n",
       "        vertical-align: middle;\n",
       "    }\n",
       "\n",
       "    .dataframe tbody tr th {\n",
       "        vertical-align: top;\n",
       "    }\n",
       "\n",
       "    .dataframe thead th {\n",
       "        text-align: right;\n",
       "    }\n",
       "</style>\n",
       "<table border=\"1\" class=\"dataframe\">\n",
       "  <thead>\n",
       "    <tr style=\"text-align: right;\">\n",
       "      <th></th>\n",
       "      <th>Thirty Day Metrics</th>\n",
       "      <th>Value</th>\n",
       "    </tr>\n",
       "  </thead>\n",
       "  <tbody>\n",
       "    <tr>\n",
       "      <th>0</th>\n",
       "      <td>Volume</td>\n",
       "      <td>Ξ54.8 ($162,566)</td>\n",
       "    </tr>\n",
       "    <tr>\n",
       "      <th>1</th>\n",
       "      <td>Change</td>\n",
       "      <td>Ξ0.23 ($669)</td>\n",
       "    </tr>\n",
       "    <tr>\n",
       "      <th>2</th>\n",
       "      <td>Average Price</td>\n",
       "      <td>Ξ0.12 ($369)</td>\n",
       "    </tr>\n",
       "    <tr>\n",
       "      <th>3</th>\n",
       "      <td>Sales</td>\n",
       "      <td>441</td>\n",
       "    </tr>\n",
       "  </tbody>\n",
       "</table>\n",
       "</div>"
      ],
      "text/plain": [
       "  Thirty Day Metrics             Value\n",
       "0             Volume  Ξ54.8 ($162,566)\n",
       "1             Change      Ξ0.23 ($669)\n",
       "2      Average Price      Ξ0.12 ($369)\n",
       "3              Sales               441"
      ]
     },
     "execution_count": 8,
     "metadata": {},
     "output_type": "execute_result"
    }
   ],
   "source": [
    "df_thirty_day_metrics = pd.DataFrame(columns=[\"Thirty Day Metrics\", \"Value\"])\n",
    "df_thirty_day_metrics[\"Thirty Day Metrics\"] = [\"Volume\", \"Change\", \"Average Price\", \"Sales\"]\n",
    "df_thirty_day_metrics[\"Value\"] = [\n",
    "    f'Ξ{stats[\"thirty_day_volume\"]:.1f} (${eth_price * stats[\"thirty_day_volume\"]:,.0f})', \n",
    "    f'Ξ{stats[\"thirty_day_change\"]:.2f} (${eth_price * stats[\"thirty_day_change\"]:,.0f})', \n",
    "    f'Ξ{stats[\"thirty_day_average_price\"]:.2f} (${eth_price * stats[\"thirty_day_average_price\"]:,.0f})',\n",
    "    f'{int(stats[\"thirty_day_sales\"]):,}', \n",
    "\n",
    "]\n",
    "df_thirty_day_metrics"
   ]
  },
  {
   "cell_type": "code",
   "execution_count": 9,
   "id": "d4449bc4-8d1f-4275-abba-6c3abef5c1fc",
   "metadata": {
    "pycharm": {
     "name": "#%%\n"
    }
   },
   "outputs": [
    {
     "data": {
      "text/html": [
       "<div>\n",
       "<style scoped>\n",
       "    .dataframe tbody tr th:only-of-type {\n",
       "        vertical-align: middle;\n",
       "    }\n",
       "\n",
       "    .dataframe tbody tr th {\n",
       "        vertical-align: top;\n",
       "    }\n",
       "\n",
       "    .dataframe thead th {\n",
       "        text-align: right;\n",
       "    }\n",
       "</style>\n",
       "<table border=\"1\" class=\"dataframe\">\n",
       "  <thead>\n",
       "    <tr style=\"text-align: right;\">\n",
       "      <th></th>\n",
       "      <th>Overall Metrics</th>\n",
       "      <th>Value</th>\n",
       "    </tr>\n",
       "  </thead>\n",
       "  <tbody>\n",
       "    <tr>\n",
       "      <th>0</th>\n",
       "      <td>Market Cap</td>\n",
       "      <td>Ξ1339.6 ($3,974,762)</td>\n",
       "    </tr>\n",
       "    <tr>\n",
       "      <th>1</th>\n",
       "      <td>Total Volume</td>\n",
       "      <td>Ξ2022.4 ($6,000,769)</td>\n",
       "    </tr>\n",
       "    <tr>\n",
       "      <th>2</th>\n",
       "      <td>Floor Price</td>\n",
       "      <td>Ξ0.10 ($294)</td>\n",
       "    </tr>\n",
       "    <tr>\n",
       "      <th>3</th>\n",
       "      <td>Average Price</td>\n",
       "      <td>Ξ0.13 ($388)</td>\n",
       "    </tr>\n",
       "    <tr>\n",
       "      <th>4</th>\n",
       "      <td>Total Sales</td>\n",
       "      <td>15,451</td>\n",
       "    </tr>\n",
       "    <tr>\n",
       "      <th>5</th>\n",
       "      <td>Hodlers</td>\n",
       "      <td>3,200</td>\n",
       "    </tr>\n",
       "  </tbody>\n",
       "</table>\n",
       "</div>"
      ],
      "text/plain": [
       "  Overall Metrics                 Value\n",
       "0      Market Cap  Ξ1339.6 ($3,974,762)\n",
       "1    Total Volume  Ξ2022.4 ($6,000,769)\n",
       "2     Floor Price          Ξ0.10 ($294)\n",
       "3   Average Price          Ξ0.13 ($388)\n",
       "4     Total Sales                15,451\n",
       "5         Hodlers                 3,200"
      ]
     },
     "execution_count": 9,
     "metadata": {},
     "output_type": "execute_result"
    }
   ],
   "source": [
    "df_overall_metrics = pd.DataFrame(columns=[\"Overall Metrics\", \"Value\"])\n",
    "df_overall_metrics[\"Overall Metrics\"] = [\"Market Cap\", \"Total Volume\", \"Floor Price\", \"Average Price\", \"Total Sales\", \"Hodlers\"]\n",
    "df_overall_metrics[\"Value\"] = [\n",
    "    f'Ξ{stats[\"market_cap\"]:.1f} (${eth_price * stats[\"market_cap\"]:,.0f})', \n",
    "    f'Ξ{stats[\"total_volume\"]:.1f} (${eth_price * stats[\"total_volume\"]:,.0f})', \n",
    "    f'Ξ{stats[\"floor_price\"]:.2f} (${eth_price * stats[\"floor_price\"]:,.0f})', \n",
    "    f'Ξ{stats[\"average_price\"]:.2f} (${eth_price * stats[\"average_price\"]:,.0f})', \n",
    "    f'{int(stats[\"total_sales\"]):,}',\n",
    "    f'{int(stats[\"num_owners\"]):,}',\n",
    "]\n",
    "df_overall_metrics"
   ]
  },
  {
   "cell_type": "code",
   "execution_count": 11,
   "id": "b20b7ef4-1a22-4bea-88c6-1ce6bbaf66a4",
   "metadata": {
    "pycharm": {
     "name": "#%%\n"
    }
   },
   "outputs": [],
   "source": [
    "page_title_text='Chibi Dinos Report'\n",
    "title_text = 'Chibi Dinos Report'\n",
    "stats_text = 'Important stats'\n",
    "table_settings = dict(header=False, index=False, classes=\"mystyle\", col_space=5)\n",
    "\n",
    "html = f'''\n",
    "<html>\n",
    "    <meta http-equiv=\"content-type\" content=\"text/html;charset=utf-8\" />\n",
    "    <head>\n",
    "        <title>{page_title_text}</title>\n",
    "    </head>\n",
    "    <link rel=\"stylesheet\" type=\"text/css\" href=\"df_style.css\"/>\n",
    "    <body>\n",
    "        <h1>{title_text}</h1>\n",
    "        <p>{details[\"collection\"][\"description\"]}</p>\n",
    "        <img src=\"chibi_dinos.jpeg\" width=\"200\">\n",
    "        <h2>Seven Day Stats</h2>\n",
    "        {df_seven_day_metrics.to_html(**table_settings)}\n",
    "        <h2>Thirty Day Stats</h2>\n",
    "        {df_thirty_day_metrics.to_html(**table_settings)}\n",
    "        <h2>Overall Stats</h2>\n",
    "        {df_overall_metrics.to_html(**table_settings)}\n",
    "    </body>\n",
    "</html>\n",
    "'''\n",
    "\n",
    "with open('chibi_report.html', 'w') as f:\n",
    "    f.write(html)"
   ]
  }
 ],
 "metadata": {
  "kernelspec": {
   "display_name": "nft_analytics",
   "language": "python",
   "name": "nft_analytics"
  },
  "language_info": {
   "codemirror_mode": {
    "name": "ipython",
    "version": 3
   },
   "file_extension": ".py",
   "mimetype": "text/x-python",
   "name": "python",
   "nbconvert_exporter": "python",
   "pygments_lexer": "ipython3",
   "version": "3.10.1"
  }
 },
 "nbformat": 4,
 "nbformat_minor": 5
}