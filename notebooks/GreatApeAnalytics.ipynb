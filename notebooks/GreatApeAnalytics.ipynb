{
 "cells": [
  {
   "cell_type": "code",
   "execution_count": 1,
   "id": "bulgarian-ethics",
   "metadata": {},
   "outputs": [],
   "source": [
    "import os\n",
    "from datetime import datetime\n",
    "from dateutil.parser import parse\n",
    "import time\n",
    "\n",
    "import numpy as np\n",
    "import pandas as pd\n",
    "import scipy.stats as scs\n",
    "import matplotlib\n",
    "import matplotlib.pyplot as plt\n",
    "import matplotlib.dates as mdates\n",
    "from pprint import pprint\n",
    "from tqdm import tqdm\n",
    "\n",
    "import seaborn as sns\n",
    "sns.set_theme(style=\"whitegrid\")\n",
    "\n",
    "from src.nft_analytics import NFTAnalytics\n",
    "from src.ethereum_api import EthereumAPI"
   ]
  },
  {
   "cell_type": "code",
   "execution_count": 2,
   "id": "violent-registration",
   "metadata": {},
   "outputs": [
    {
     "name": "stdout",
     "output_type": "stream",
     "text": [
      "2021-10-23 19:01:27,373 - src.ethereum_api - INFO - Connected to Infura endpoint.\n"
     ]
    }
   ],
   "source": [
    "gaa = NFTAnalytics(\"0xA0F38233688bB578c0a88102A95b846c18bc0bA7\")\n",
    "DATA_FOLDER, RESULT_FOLDER = gaa.make_directories(\"GreatApeSociety\")\n",
    "TIMESTAMP = datetime.now().strftime(\"%Y-%m-%d_\")"
   ]
  },
  {
   "cell_type": "markdown",
   "id": "ambient-details",
   "metadata": {},
   "source": [
    "# Fetch all GreatApe data from OpenSea\n",
    "\n",
    "Note that this can fail if OpenSea decides to rate limit. Works best at night when the load on their servers is low."
   ]
  },
  {
   "cell_type": "code",
   "execution_count": 3,
   "id": "personal-concern",
   "metadata": {},
   "outputs": [
    {
     "name": "stderr",
     "output_type": "stream",
     "text": [
      "10000: 100%|███████████████████████████████████████████████████████████████████████████████████████████████████████████████████████████████████████████████████████████████████████████████████████████████████████████████████████████████████████████████████████████████████████████████████████████████████| 201/201 [07:23<00:00,  2.21s/it]\n"
     ]
    },
    {
     "name": "stdout",
     "output_type": "stream",
     "text": [
      "2021-10-23 19:08:56,553 - src.nft_analytics - INFO - Saved asset data to data\\GreatApeSociety\\data.json\n"
     ]
    }
   ],
   "source": [
    "asset_data = gaa.fetch_data(max_offset=10000)\n",
    "gaa.save_json(asset_data, filename=os.path.join(DATA_FOLDER, \"data.json\"))"
   ]
  },
  {
   "cell_type": "markdown",
   "id": "alleged-jackson",
   "metadata": {},
   "source": [
    "# Load json file"
   ]
  },
  {
   "cell_type": "code",
   "execution_count": null,
   "id": "gentle-repository",
   "metadata": {},
   "outputs": [],
   "source": [
    "asset_data = gaa.load_json(filename=os.path.join(DATA_FOLDER, \"data.json\"))\n",
    "OPENSEA_FLOOR_PRICE = 0.1"
   ]
  },
  {
   "cell_type": "markdown",
   "id": "34d7e65d-9aa1-4b22-a744-6464f8b23901",
   "metadata": {},
   "source": [
    "# Addresses without listing or with above 0.4 ETH listing"
   ]
  },
  {
   "cell_type": "code",
   "execution_count": 4,
   "id": "1ca6d700-256a-4ccb-aa5a-3aed7e70e778",
   "metadata": {},
   "outputs": [],
   "source": [
    "listings = {}\n",
    "\n",
    "for asset in asset_data:\n",
    "    listings[asset[\"owner\"][\"address\"]] = []\n",
    "    \n",
    "for asset in asset_data:\n",
    "    if asset[\"sell_orders\"]:\n",
    "        listing_price = float(asset[\"sell_orders\"][0][\"base_price\"]) / 1e18\n",
    "        listings[asset[\"owner\"][\"address\"]].append(listing_price)\n",
    "    else:\n",
    "        listings[asset[\"owner\"][\"address\"]].append(10000)"
   ]
  },
  {
   "cell_type": "code",
   "execution_count": 5,
   "id": "a9ec2d4a-d994-40da-8217-6237bf641247",
   "metadata": {},
   "outputs": [],
   "source": [
    "valid_addresses = []\n",
    "min_listing_prices = []\n",
    "\n",
    "for address, listing_prices in listings.items():\n",
    "    if min(listing_prices) >= 0.4:\n",
    "        min_listing_prices.append(min(listing_prices))\n",
    "        valid_addresses.append(address)"
   ]
  },
  {
   "cell_type": "code",
   "execution_count": 6,
   "id": "c64bd01f-3e85-491a-9e42-65b3ccdfaebd",
   "metadata": {},
   "outputs": [],
   "source": [
    "df = pd.DataFrame(columns=[\"Address\", \"Minimum Listing\"])\n",
    "df[\"Address\"] = valid_addresses\n",
    "df[\"Minimum Listing\"] = min_listing_prices\n",
    "\n",
    "df[\"Minimum Listing\"] = df[\"Minimum Listing\"].replace(10000, 'Unlisted')\n",
    "\n",
    "opensea_links = []\n",
    "for address in df[\"Address\"]:\n",
    "    opensea_links.append(f\"https://opensea.io/{address}\")\n",
    "df[\"OpenSea_link\"] = opensea_links\n",
    "\n",
    "df.to_excel(os.path.join(RESULT_FOLDER, TIMESTAMP + \"ape_addresses_unlisted_or_aboveequalto0point4ETH.xlsx\"), index=False)"
   ]
  },
  {
   "cell_type": "code",
   "execution_count": null,
   "id": "755daf7b-8fae-449f-adaf-e7a561366d02",
   "metadata": {},
   "outputs": [],
   "source": [
    "addresses = []\n",
    "listing_prices = []\n",
    "\n",
    "for asset in asset_data:\n",
    "    if asset[\"sell_orders\"]:\n",
    "        listing_price = float(asset[\"sell_orders\"][0][\"base_price\"]) / 1e18\n",
    "        if listing_price >= 0.4:\n",
    "            addresses.append(asset[\"owner\"][\"address\"])\n",
    "            listing_prices.append(f\"{listing_price:.2f} ETH\")\n",
    "    else:\n",
    "        listing_prices.append(\"Unlisted\")\n",
    "        addresses.append(asset[\"owner\"][\"address\"])"
   ]
  },
  {
   "cell_type": "code",
   "execution_count": null,
   "id": "fd3a52f5-4f51-4a5e-8e07-1696f9aa568d",
   "metadata": {},
   "outputs": [],
   "source": [
    "df = pd.DataFrame(columns=[\"Address\", \"Listing State\"])\n",
    "\n",
    "df[\"Address\"] = addresses\n",
    "df[\"Listing State\"] = listing_prices\n",
    "\n",
    "df = df.drop_duplicates(subset=\"Address\")\n",
    "\n",
    "etherscan_links = []\n",
    "for address in df[\"Address\"]:\n",
    "    etherscan_links.append(f\"https://etherscan.io/address/{address}\")\n",
    "df[\"Etherscan_link\"] = etherscan_links\n",
    "\n",
    "opensea_links = []\n",
    "for address in df[\"Address\"]:\n",
    "    opensea_links.append(f\"https://opensea.io/{address}\")\n",
    "df[\"OpenSea_link\"] = opensea_links\n",
    "\n",
    "df.to_excel(os.path.join(RESULT_FOLDER, TIMESTAMP + \"ape_addresses_unlisted_or_above04ETH.xlsx\"), index=False)"
   ]
  },
  {
   "cell_type": "markdown",
   "id": "downtown-lambda",
   "metadata": {},
   "source": [
    "## Scatter plot of listing prices with time"
   ]
  },
  {
   "cell_type": "code",
   "execution_count": null,
   "id": "magnetic-march",
   "metadata": {},
   "outputs": [],
   "source": [
    "created_dates = []\n",
    "listing_prices = []\n",
    "for asset in asset_data:\n",
    "    if asset[\"sell_orders\"]:\n",
    "        created_dates.append(parse(asset[\"sell_orders\"][0][\"created_date\"]))\n",
    "        listing_prices.append(float(asset[\"sell_orders\"][0][\"base_price\"]) / 1e18)\n",
    "listing_prices = np.array(listing_prices)"
   ]
  },
  {
   "cell_type": "code",
   "execution_count": null,
   "id": "genuine-retirement",
   "metadata": {},
   "outputs": [],
   "source": [
    "fig, ax = plt.subplots()\n",
    "\n",
    "dates = matplotlib.dates.date2num(created_dates)\n",
    "ax.plot_date(dates, listing_prices, 'o', alpha=0.5)\n",
    "fig.autofmt_xdate()\n",
    "ax.set_ylim(-0.01, OPENSEA_FLOOR_PRICE * 5)\n",
    "ax.set_ylabel(\"Listing Price (ETH)\")\n",
    "ax.axhline(OPENSEA_FLOOR_PRICE, color=\"tab:orange\", linestyle=\"-\", label=f\"OpenSea floor = {OPENSEA_FLOOR_PRICE:.2f} ETH\")\n",
    "ax.set_title(\"Listing price with time\")\n",
    "ax.grid(linestyle=\"--\")\n",
    "ax.legend()\n",
    "fig.savefig(os.path.join(RESULT_FOLDER, TIMESTAMP + \"listing_price_variation_with_time_near_floor.jpg\"), bbox_inches=\"tight\", dpi=600)"
   ]
  },
  {
   "cell_type": "code",
   "execution_count": null,
   "id": "adolescent-source",
   "metadata": {},
   "outputs": [],
   "source": [
    "# Cost to cleanup sub-floor\n",
    "np.sum(listing_prices[listing_prices < OPENSEA_FLOOR_PRICE])"
   ]
  },
  {
   "cell_type": "markdown",
   "id": "personalized-typing",
   "metadata": {},
   "source": [
    "## Histogram of listing prices"
   ]
  },
  {
   "cell_type": "code",
   "execution_count": null,
   "id": "chronic-ottawa",
   "metadata": {},
   "outputs": [],
   "source": [
    "upper_limit = 3\n",
    "\n",
    "fig, ax = plt.subplots()\n",
    "_, bins, _ = ax.hist(listing_prices, histtype='stepfilled', density=True, bins=100, range=[0, upper_limit], alpha=0.5)\n",
    "\n",
    "params = scs.lognorm.fit(listing_prices[listing_prices < upper_limit])\n",
    "x_bins = np.linspace(1e-2, np.max(listing_prices[listing_prices < upper_limit]), len(bins)*100) \n",
    "ax.plot(x_bins, scs.lognorm.pdf(x_bins, *params), linewidth=2, label=f\"Lognormal distribution\")\n",
    "ax.set_title(f\"Lognormal mean listing price = {params[2]:.2f} ETH\")\n",
    "\n",
    "ax.set_xlabel(\"Listing Price (ETH)\")\n",
    "ax.set_ylabel(\"No. of listings (norm.)\")\n",
    "ax.legend()\n",
    "ax.grid(True, linestyle=\"--\")\n",
    "\n",
    "fig.savefig(os.path.join(RESULT_FOLDER, TIMESTAMP + \"histogram_listing_price_variation_near_floor.jpg\"), bbox_inches=\"tight\", dpi=600)"
   ]
  },
  {
   "cell_type": "markdown",
   "id": "parallel-wheel",
   "metadata": {},
   "source": [
    "# Sale price with time"
   ]
  },
  {
   "cell_type": "code",
   "execution_count": null,
   "id": "human-spirit",
   "metadata": {},
   "outputs": [],
   "source": [
    "sale_prices = []\n",
    "timestamps = []\n",
    "\n",
    "for asset in asset_data:\n",
    "    if asset[\"last_sale\"]:\n",
    "        if asset[\"last_sale\"][\"event_type\"] == \"successful\":\n",
    "            timestamps.append(parse(asset[\"last_sale\"][\"transaction\"][\"timestamp\"]))\n",
    "            sale_prices.append(float(asset[\"last_sale\"][\"total_price\"]) / 1e18)\n",
    "            \n",
    "sale_prices = np.array(sale_prices)"
   ]
  },
  {
   "cell_type": "code",
   "execution_count": null,
   "id": "typical-order",
   "metadata": {},
   "outputs": [],
   "source": [
    "fig, ax = plt.subplots()\n",
    "\n",
    "dates = matplotlib.dates.date2num(timestamps)\n",
    "ax.plot_date(dates, sale_prices, 'o', alpha=0.2)\n",
    "fig.autofmt_xdate()\n",
    "\n",
    "ax.set_ylim(-0.01, 0.3)\n",
    "ax.set_ylabel(\"Sale Price (ETH)\")\n",
    "ax.axhline(OPENSEA_FLOOR_PRICE, color=\"tab:orange\", linestyle=\"-\", label=f\"OpenSea floor = {OPENSEA_FLOOR_PRICE:.2f} ETH\")\n",
    "ax.set_title(\"Sale price with time\")\n",
    "ax.grid(True, linestyle=\"--\")\n",
    "\n",
    "ax.legend()\n",
    "\n",
    "fig.savefig(os.path.join(RESULT_FOLDER, TIMESTAMP + \"sale_price_variation_with_time_near_floor.jpg\"), bbox_inches=\"tight\", dpi=600)"
   ]
  },
  {
   "cell_type": "markdown",
   "id": "extensive-glasgow",
   "metadata": {},
   "source": [
    "# Bar plot of sales"
   ]
  },
  {
   "cell_type": "code",
   "execution_count": null,
   "id": "f5438a4c-2e9c-455e-b9dd-0f3730036d6f",
   "metadata": {},
   "outputs": [],
   "source": [
    "df = pd.DataFrame(columns=[\"Date\", \"Sales\"])\n",
    "\n",
    "df[\"Date\"] = sorted(timestamps)\n",
    "df[\"Sales\"] = np.ones(len(timestamps))\n",
    "df = df.groupby(df['Date'].dt.date).sum()"
   ]
  },
  {
   "cell_type": "code",
   "execution_count": null,
   "id": "signed-september",
   "metadata": {},
   "outputs": [],
   "source": [
    "upper_limit = 1\n",
    "\n",
    "fig, ax = plt.subplots()\n",
    "\n",
    "ax.bar(df.index, df[\"Sales\"], alpha=0.5)\n",
    "\n",
    "ax.xaxis.set_major_formatter(mdates.DateFormatter('%d.%m'))\n",
    "ax.set_ylabel(\"Number of sales\")\n",
    "ax.set_yticks(ax.get_yticks()[::2])\n",
    "ax.grid(True, linestyle=\"--\")\n",
    "fig.savefig(os.path.join(RESULT_FOLDER, TIMESTAMP + \"histogram_number_of_sales_with_time.jpg\"), bbox_inches=\"tight\", dpi=600)"
   ]
  },
  {
   "cell_type": "code",
   "execution_count": null,
   "id": "dominant-failure",
   "metadata": {},
   "outputs": [],
   "source": [
    "upper_limit = 1\n",
    "\n",
    "fig, ax = plt.subplots()\n",
    "\n",
    "unix_timestamps = []\n",
    "\n",
    "for times in timestamps:\n",
    "    unix_timestamps.append(times.timestamp())\n",
    "\n",
    "mpl_data = mdates.epoch2num(unix_timestamps)\n",
    "_, bins, _ = ax.hist(mpl_data, bins=50, alpha=0.5)\n",
    "\n",
    "ax.xaxis.set_major_formatter(mdates.DateFormatter('%d.%m'))\n",
    "ax.set_ylabel(\"No. of sales\")\n",
    "ax.grid(False)\n",
    "fig.savefig(os.path.join(RESULT_FOLDER, TIMESTAMP + \"histogram_number_of_sales_with_time.jpg\"), bbox_inches=\"tight\", dpi=600)"
   ]
  },
  {
   "cell_type": "code",
   "execution_count": null,
   "id": "e26a3257-fa41-49e3-9590-e62a5a90e4f9",
   "metadata": {},
   "outputs": [],
   "source": [
    "df.to_excel(os.path.join(RESULT_FOLDER, TIMESTAMP + \"sales_by_day.xlsx\"), index=True)"
   ]
  },
  {
   "cell_type": "markdown",
   "id": "prescription-arizona",
   "metadata": {},
   "source": [
    "# Time histogram of number of sales over a day (defined by timestamps within bin)"
   ]
  },
  {
   "cell_type": "code",
   "execution_count": null,
   "id": "american-kinase",
   "metadata": {},
   "outputs": [],
   "source": [
    "fig, ax = plt.subplots()\n",
    "\n",
    "hours = []\n",
    "\n",
    "for times in timestamps:\n",
    "    hours.append(times.hour)\n",
    "    \n",
    "_, bins, _ = ax.hist(hours, bins=24, alpha=0.5)\n",
    "\n",
    "ax.set_ylabel(\"No. of sales\")\n",
    "ax.set_xlabel(\"Time of day in hours (UTC)\")\n",
    "ax.set_yscale(\"log\")\n",
    "#fig.savefig(os.path.join(RESULT_FOLDER, TIMESTAMP + \"histogram_number_of_sales_with_time_of_day.jpg\"), bbox_inches=\"tight\", dpi=600)"
   ]
  },
  {
   "cell_type": "markdown",
   "id": "coupled-crash",
   "metadata": {},
   "source": [
    "# Median price of traits"
   ]
  },
  {
   "cell_type": "code",
   "execution_count": null,
   "id": "objective-vanilla",
   "metadata": {},
   "outputs": [],
   "source": [
    "traits = {\n",
    "    \"Clothes\" : \"Hufflepuff\",\n",
    "    \"Eyes\": \"Orange_Glasses\",\n",
    "    \"Fur\": \"Gold_Skin\",\n",
    "    \"Background\": \"Carolina\",\n",
    "    \"Mouth\": \"Laughing_Mouth\",\n",
    "    \"Earring\": \"Green_Red_Earring\",\n",
    "    \"Hat\": \"Fire_Hair\"\n",
    "}\n",
    "\n",
    "prices = gaa.get_median_prices(asset_data, traits)\n",
    "print(f\"Average price = {np.average(prices):.2f}, Max price = {np.max(prices):.2f}, Min price = {np.min(prices):.2f}\")"
   ]
  },
  {
   "cell_type": "markdown",
   "id": "necessary-collapse",
   "metadata": {},
   "source": [
    "# Great Apes held by address (OpenSea API + Infura)"
   ]
  },
  {
   "cell_type": "code",
   "execution_count": null,
   "id": "29b05e89-0045-4e8d-b922-d07f4238071d",
   "metadata": {},
   "outputs": [],
   "source": [
    "df = gaa.get_nft_holdings(asset_data, \"GreatApes\", eth_balances=True)"
   ]
  },
  {
   "cell_type": "code",
   "execution_count": null,
   "id": "9c88c6e3-e34a-4ff3-bb1e-1a6c9a760963",
   "metadata": {},
   "outputs": [],
   "source": [
    "df = df.sort_values(\"GreatApes\", ascending=False)"
   ]
  },
  {
   "cell_type": "code",
   "execution_count": null,
   "id": "4aec2425-eac1-4e2e-9226-e918cdc66caf",
   "metadata": {},
   "outputs": [],
   "source": [
    "df.to_excel(os.path.join(RESULT_FOLDER, TIMESTAMP + \"ape_holders_addresses_and_holdings.xlsx\"), index=False)"
   ]
  },
  {
   "cell_type": "code",
   "execution_count": null,
   "id": "7033300d-cea1-4df8-87af-6bfd13e2170c",
   "metadata": {},
   "outputs": [],
   "source": [
    "df = pd.read_excel(os.path.join(RESULT_FOLDER, TIMESTAMP + \"ape_holders_addresses_and_holdings.xlsx\"))"
   ]
  },
  {
   "cell_type": "code",
   "execution_count": null,
   "id": "61f2e878-9de0-4ef9-a53d-9698b1a16ba0",
   "metadata": {},
   "outputs": [],
   "source": [
    "df[df[\"GreatApes\"] >= 5]"
   ]
  },
  {
   "cell_type": "markdown",
   "id": "423bbee9-8305-46cb-bec1-596297ca7861",
   "metadata": {},
   "source": [
    "# ETH in wallet"
   ]
  },
  {
   "cell_type": "code",
   "execution_count": null,
   "id": "cbe5f850-9493-4736-ab2e-d50fb5e53119",
   "metadata": {},
   "outputs": [],
   "source": [
    "fig, ax = plt.subplots()\n",
    "\n",
    "upper_limit = 100\n",
    "\n",
    "_, bins, _ = ax.hist(df[\"ETH_balance\"], density=False, bins=100, alpha=0.5, range=[0, upper_limit], )\n",
    "\n",
    "print(f\"Under {upper_limit} ETH = {len(df['ETH_balance'][df['ETH_balance'] < upper_limit]) / len(df['ETH_balance']) * 100:.2f}%\")\n",
    "print(f\"Over {upper_limit} ETH = {len(df['ETH_balance'][df['ETH_balance'] > upper_limit]) / len(df['ETH_balance']) * 100:.2f}%\")\n",
    "\n",
    "ax.set_ylabel(\"No. of wallets\")\n",
    "ax.set_yscale(\"log\")\n",
    "ax.set_xscale(\"log\")\n",
    "ax.set_xlabel(\"ETH in wallet\")\n",
    "\n",
    "median_holding = np.median(df['ETH_balance'])\n",
    "max_holding = np.max(df['ETH_balance'])\n",
    "ax.set_title(f\"GreatApe holders ETH balance\\nMedian = {median_holding:.2f} ETH, Max = {max_holding:.2f} ETH\")\n",
    "\n",
    "fig.savefig(os.path.join(RESULT_FOLDER, TIMESTAMP + \"eth_in_holder_wallets.jpg\"), bbox_inches=\"tight\", dpi=600)"
   ]
  },
  {
   "cell_type": "markdown",
   "id": "5b13dc68-d22a-4edc-898e-ca0073d6923e",
   "metadata": {},
   "source": [
    "# Variation of bid price with time"
   ]
  },
  {
   "cell_type": "code",
   "execution_count": null,
   "id": "pursuant-warren",
   "metadata": {},
   "outputs": [],
   "source": [
    "events_data = gaa.fetch_events(max_offset=10000)"
   ]
  },
  {
   "cell_type": "code",
   "execution_count": null,
   "id": "detected-suffering",
   "metadata": {},
   "outputs": [],
   "source": [
    "len(events_data)"
   ]
  },
  {
   "cell_type": "code",
   "execution_count": null,
   "id": "compact-frank",
   "metadata": {},
   "outputs": [],
   "source": [
    "gaa.save_json(events_data, filename=os.path.join(DATA_FOLDER, \"events.json\"))"
   ]
  },
  {
   "cell_type": "code",
   "execution_count": null,
   "id": "missing-contributor",
   "metadata": {},
   "outputs": [],
   "source": [
    "events_data = gaa.load_json(filename=os.path.join(DATA_FOLDER, \"events.json\"))"
   ]
  },
  {
   "cell_type": "code",
   "execution_count": null,
   "id": "living-helen",
   "metadata": {},
   "outputs": [],
   "source": [
    "bids = []\n",
    "created_dates = []\n",
    "\n",
    "for event in events_data:\n",
    "    if event[\"bid_amount\"]:\n",
    "        created_dates.append(parse(event[\"created_date\"]))\n",
    "        bids.append(float(event[\"bid_amount\"]) / 1e18)\n",
    "bids = np.array(bids)"
   ]
  },
  {
   "cell_type": "code",
   "execution_count": null,
   "id": "economic-inspection",
   "metadata": {},
   "outputs": [],
   "source": [
    "fig, ax = plt.subplots()\n",
    "#ax.set_yscale(\"log\")\n",
    "dates = matplotlib.dates.date2num(created_dates)\n",
    "ax.plot_date(dates, bids, 'o', alpha=0.5)\n",
    "fig.autofmt_xdate()\n",
    "ax.set_ylabel(\"Bid Price (ETH)\")\n",
    "ax.axhline(OPENSEA_FLOOR_PRICE, color=\"tab:orange\", linestyle=\"--\", label=\"Current OpenSea floor price\")\n",
    "ax.legend()\n",
    "ax.set_title(f\"Variation of bids with time (Bids under floor = {len(bids[bids < 0.06]) / len(bids) * 100:.1f}%)\")\n",
    "#fig.savefig(os.path.join(RESULT_FOLDER, TIMESTAMP + \"bid_price_variation_with_time.jpg\"), bbox_inches=\"tight\", dpi=600)"
   ]
  },
  {
   "cell_type": "markdown",
   "id": "7be82000-3d0e-4b85-b0b0-649d22f298d4",
   "metadata": {},
   "source": [
    "# Number per price range"
   ]
  },
  {
   "cell_type": "code",
   "execution_count": null,
   "id": "0322d274-1710-414c-866b-47e0dfafc0a5",
   "metadata": {},
   "outputs": [],
   "source": [
    "created_dates = []\n",
    "listing_prices = []\n",
    "for asset in asset_data:\n",
    "    if asset[\"sell_orders\"]:\n",
    "        created_dates.append(parse(asset[\"sell_orders\"][0][\"created_date\"]))\n",
    "        listing_prices.append(float(asset[\"sell_orders\"][0][\"base_price\"]) / 1e18)\n",
    "listing_prices = np.array(listing_prices)"
   ]
  },
  {
   "cell_type": "code",
   "execution_count": null,
   "id": "e82dc92e-4a1b-4782-b6e7-37a3de8ebf80",
   "metadata": {},
   "outputs": [],
   "source": [
    "OPENSEA_FLOOR_PRICE = 0.06"
   ]
  },
  {
   "cell_type": "code",
   "execution_count": null,
   "id": "fbcd5cdc-dd0d-4d09-b96f-f21919dfaa21",
   "metadata": {},
   "outputs": [],
   "source": [
    "OPENSEA_FLOOR_PRICE = round(OPENSEA_FLOOR_PRICE, 2)\n",
    "\n",
    "numbers_in_bins = []\n",
    "\n",
    "price_bins = np.linspace(OPENSEA_FLOOR_PRICE, OPENSEA_FLOOR_PRICE * 2, 7)\n",
    "\n",
    "last_bin = 0\n",
    "for current_bin in price_bins:\n",
    "    number_in_bin = len(listing_prices[(listing_prices < current_bin) & (last_bin < listing_prices)])\n",
    "    last_bin = current_bin\n",
    "    numbers_in_bins.append(round(number_in_bin, 2))\n",
    "\n",
    "price_bins_rounded = np.around(price_bins, 2)\n",
    "\n",
    "ax = sns.barplot(x=price_bins_rounded, y=numbers_in_bins, color=\"seagreen\")\n",
    "ax.bar_label(ax.containers[0])\n",
    "sns.despine(left=True)\n",
    "ax.set_yticks(ax.get_yticks()[::2])\n",
    "ax.set_xlabel(\"Price in ETH\")\n",
    "ax.set_ylabel(\"Great Apes for sale\")\n",
    "#ax.figure.savefig(os.path.join(RESULT_FOLDER, TIMESTAMP + \"great_apes.jpg\"), dpi=600)"
   ]
  },
  {
   "cell_type": "code",
   "execution_count": null,
   "id": "d4f38c0e-4a55-4488-b531-303697c0c439",
   "metadata": {},
   "outputs": [],
   "source": [
    "OPENSEA_FLOOR_PRICE = round(OPENSEA_FLOOR_PRICE, 2)\n",
    "\n",
    "numbers_in_bins = []\n",
    "\n",
    "price_bins = np.arange(0.07, 0.15, 0.01)\n",
    "differential = 0.01\n",
    "print(price_bins)\n",
    "print(price_bins - differential)\n",
    "last_bin = 0\n",
    "for current_bin in price_bins:\n",
    "    number_in_bin = len(listing_prices[(listing_prices < current_bin) & (listing_prices >= (current_bin - differential))])\n",
    "    last_bin = current_bin\n",
    "    numbers_in_bins.append(round(number_in_bin, 2))\n",
    "\n",
    "price_bins_rounded = np.around(price_bins, 2)\n",
    "\n",
    "ax = sns.barplot(x=price_bins_rounded, y=numbers_in_bins, color=\"seagreen\")\n",
    "ax.bar_label(ax.containers[0])\n",
    "sns.despine(left=True)\n",
    "ax.set_yticks(ax.get_yticks()[::2])\n",
    "ax.set_xlabel(\"Floor price in ETH\")\n",
    "ax.set_ylabel(\"Great Apes Dinos for sale\")\n",
    "ax.set_title(\"After DELIST\")\n",
    "#ax.figure.savefig(os.path.join(RESULT_FOLDER, TIMESTAMP + \"after_delist_great_apes.jpg\"), dpi=600)"
   ]
  }
 ],
 "metadata": {
  "kernelspec": {
   "display_name": "nft_analytics",
   "language": "python",
   "name": "nft_analytics"
  },
  "language_info": {
   "codemirror_mode": {
    "name": "ipython",
    "version": 3
   },
   "file_extension": ".py",
   "mimetype": "text/x-python",
   "name": "python",
   "nbconvert_exporter": "python",
   "pygments_lexer": "ipython3",
   "version": "3.9.6"
  }
 },
 "nbformat": 4,
 "nbformat_minor": 5
}
