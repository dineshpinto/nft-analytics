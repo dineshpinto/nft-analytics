{
 "cells": [
  {
   "cell_type": "code",
   "execution_count": null,
   "id": "1490819f-d5d4-4a7b-b772-f45113adf932",
   "metadata": {},
   "outputs": [],
   "source": [
    "from web3 import Web3\n",
    "import time\n",
    "from pprint import pprint\n",
    "from web3._utils.method_formatters import TransactionNotFound"
   ]
  },
  {
   "cell_type": "code",
   "execution_count": null,
   "id": "99ca9426-4e47-413f-a1ce-360c304a7fc0",
   "metadata": {},
   "outputs": [],
   "source": [
    "w3 = Web3(Web3.HTTPProvider(\"https://ropsten.infura.io/v3/4be347dbd1db434f8bc72463609af7c5\"))"
   ]
  },
  {
   "cell_type": "code",
   "execution_count": null,
   "id": "95e54f05-0956-451f-939a-9af6ca6ddf45",
   "metadata": {},
   "outputs": [],
   "source": [
    "w3.isConnected()"
   ]
  },
  {
   "cell_type": "code",
   "execution_count": null,
   "id": "ac72456a-9fcc-489b-9b56-9f93b43bd03a",
   "metadata": {},
   "outputs": [],
   "source": [
    "account1 = \"0x4b2ffB4a31fDC0347F6D8557E0B39609a4b44e7C\"\n",
    "private_key1 = \"38e993c108c9ca7c6cef5f534527933b22e1e2cbb93e9e69477323f89791a5c0\"\n",
    "\n",
    "account2 = \"0x92Cf2a74b1eFCe3c47F7B1734211c273Ea54CFD4\"\n",
    "private_key2 = \"74c64980a4fdff7e68ff88f0440f7d3a1a3e7538bbb84288ca0a03828a162dc0\""
   ]
  },
  {
   "cell_type": "code",
   "execution_count": null,
   "id": "581bf84a-8dd1-4424-a015-b5782322b514",
   "metadata": {},
   "outputs": [],
   "source": [
    "w3.eth.getBalance(account2)"
   ]
  },
  {
   "cell_type": "code",
   "execution_count": null,
   "id": "240348d3-9e56-4847-a262-f423b16da580",
   "metadata": {},
   "outputs": [],
   "source": [
    "w3.eth.getTransactionCount(account2)"
   ]
  },
  {
   "cell_type": "code",
   "execution_count": null,
   "id": "decdb77b-a271-4372-b839-e33d4d885e8e",
   "metadata": {},
   "outputs": [],
   "source": [
    "w3.eth.chain_id"
   ]
  },
  {
   "cell_type": "code",
   "execution_count": null,
   "id": "8039aedb-bca2-4d8d-bc7c-c477315ad6fd",
   "metadata": {},
   "outputs": [],
   "source": [
    "tx = {\n",
    "    \"nonce\": w3.eth.getTransactionCount(account1),\n",
    "    \"to\": account2,\n",
    "    \"value\": w3.toWei(\"0.1\", \"ether\"),\n",
    "    \"gas\": w3.eth.getBlock(\"latest\").gasLimit,\n",
    "    \"gasPrice\": int(w3.eth.gas_price + w3.eth.gas_price * 0.1)\n",
    "}"
   ]
  },
  {
   "cell_type": "code",
   "execution_count": null,
   "id": "680a52a3-7d86-49c8-89be-399279d2d5ee",
   "metadata": {},
   "outputs": [],
   "source": [
    "tx_hash = w3.eth.sendRawTransaction(w3.eth.account.signTransaction(tx, private_key1).rawTransaction)"
   ]
  },
  {
   "cell_type": "code",
   "execution_count": null,
   "id": "2ca32e73-147f-489b-a9e9-c7a4e4565708",
   "metadata": {},
   "outputs": [],
   "source": [
    "tx_success = False\n",
    "\n",
    "while not tx_success:\n",
    "    try:\n",
    "        tx_details = w3.eth.get_transaction(tx_hash)\n",
    "        tx_success = True\n",
    "    except TransactionNotFound:\n",
    "        # TODO: Catch TransactionNotFound error specifically\n",
    "        print(\"Unable to find transaction, trying again in 20 seconds\")\n",
    "        tx_success = False\n",
    "    time.sleep(20)\n",
    "    \n",
    "print(tx_details)"
   ]
  },
  {
   "cell_type": "code",
   "execution_count": null,
   "id": "5c159c61-bbfa-41a4-a709-f58e45100b84",
   "metadata": {},
   "outputs": [],
   "source": [
    "tx_hash"
   ]
  },
  {
   "cell_type": "code",
   "execution_count": null,
   "id": "e1623f71-6535-4567-9d9e-990d5f935fee",
   "metadata": {},
   "outputs": [],
   "source": [
    "from tqdm import tqdm"
   ]
  },
  {
   "cell_type": "code",
   "execution_count": null,
   "id": "716771bf-92b0-4ccc-bf60-ae32bb07c3c6",
   "metadata": {},
   "outputs": [],
   "source": [
    "addresses = [\"a\", \"b\", \"c\"]"
   ]
  },
  {
   "cell_type": "code",
   "execution_count": null,
   "id": "434fae94-e22d-4bd7-97d7-f7c30bae026a",
   "metadata": {},
   "outputs": [],
   "source": [
    "pbar = tqdm(addresses)\n",
    "\n",
    "for idx, address in enumerate(pbar):\n",
    "    pbar.set_description(f\"{idx}{address}\")\n"
   ]
  },
  {
   "cell_type": "code",
   "execution_count": 1,
   "id": "140cd524-030e-442f-803a-dad365d3fdcb",
   "metadata": {},
   "outputs": [],
   "source": [
    "import logging"
   ]
  },
  {
   "cell_type": "code",
   "execution_count": 2,
   "id": "da9e0538-3227-428b-8b97-7d6a2d07eace",
   "metadata": {},
   "outputs": [],
   "source": [
    "logging.basicConfig(filename=\"logfile.log\", filemode='a', format='%(asctime)s - %(name)s - %(levelname)s - %(message)s', level=logging.INFO)\n",
    "logger = logging.getLogger(__name__)"
   ]
  },
  {
   "cell_type": "code",
   "execution_count": 3,
   "id": "d7d91cf5-6772-4207-aad2-6f455dd708a1",
   "metadata": {},
   "outputs": [],
   "source": [
    "logger.info(\"Hest\")"
   ]
  },
  {
   "cell_type": "code",
   "execution_count": 4,
   "id": "3a54d8ce-79ed-466f-8bc2-e12ae41e5b04",
   "metadata": {},
   "outputs": [],
   "source": [
    "logger.warning(\"sda\")"
   ]
  }
 ],
 "metadata": {
  "kernelspec": {
   "display_name": "nft_analytics",
   "language": "python",
   "name": "nft_analytics"
  },
  "language_info": {
   "codemirror_mode": {
    "name": "ipython",
    "version": 3
   },
   "file_extension": ".py",
   "mimetype": "text/x-python",
   "name": "python",
   "nbconvert_exporter": "python",
   "pygments_lexer": "ipython3",
   "version": "3.9.6"
  }
 },
 "nbformat": 4,
 "nbformat_minor": 5
}
