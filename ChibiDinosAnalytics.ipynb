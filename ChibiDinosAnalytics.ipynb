{
 "cells": [
  {
   "cell_type": "code",
   "execution_count": 4,
   "id": "b6b10bce-eb85-4025-ae05-0f692907017d",
   "metadata": {},
   "outputs": [],
   "source": [
    "import os\n",
    "from datetime import datetime\n",
    "from dateutil.parser import parse\n",
    "import time\n",
    "\n",
    "import numpy as np\n",
    "import pandas as pd\n",
    "from scipy import interpolate\n",
    "from scipy.optimize import curve_fit\n",
    "import scipy.stats as scs\n",
    "import matplotlib\n",
    "import matplotlib.pyplot as plt\n",
    "import matplotlib.dates as mdates\n",
    "from pprint import pprint\n",
    "from tqdm import tqdm\n",
    "\n",
    "import seaborn as sns\n",
    "sns.set_theme(style=\"whitegrid\")\n",
    "\n",
    "from src.nft_analytics import NFTAnalytics\n",
    "from src.ethereum_api import EthereumAPI"
   ]
  },
  {
   "cell_type": "code",
   "execution_count": 5,
   "id": "9b16a2fc-7c89-4705-8ef0-65c5490e6fd8",
   "metadata": {},
   "outputs": [
    {
     "name": "stdout",
     "output_type": "stream",
     "text": [
      "2021-10-19 22:34:05,154 - src.ethereum_api - INFO - Connected to Infura endpoint.\n"
     ]
    }
   ],
   "source": [
    "cbd = NFTAnalytics(\"0xe12EDaab53023c75473a5A011bdB729eE73545e8\")\n",
    "DATA_FOLDER, RESULT_FOLDER = cbd.make_directories(\"ChibiDinos\")\n",
    "TIMESTAMP = datetime.now().strftime(\"%Y-%m-%d_\")\n",
    "#TIMESTAMP = \"2021-09-16_\""
   ]
  },
  {
   "cell_type": "code",
   "execution_count": 3,
   "id": "796eb8e3-5e9c-4f7c-b7e4-cd42fa6c8ae2",
   "metadata": {},
   "outputs": [
    {
     "name": "stderr",
     "output_type": "stream",
     "text": [
      "10000: 100%|███████████████████████████████████████████████████████████████████████████████████████████████████████████████████████| 201/201 [05:03<00:00,  1.51s/it]\n"
     ]
    },
    {
     "name": "stdout",
     "output_type": "stream",
     "text": [
      "2021-10-19 22:14:58,400 - src.nft_analytics - INFO - Saved asset data to data\\ChibiDinos\\data.json\n"
     ]
    }
   ],
   "source": [
    "asset_data = cbd.fetch_data(max_offset=10000)\n",
    "cbd.save_json(asset_data, filename=os.path.join(DATA_FOLDER, \"data.json\"))"
   ]
  },
  {
   "cell_type": "code",
   "execution_count": 6,
   "id": "a45e687a-8e64-4be3-b851-90778f9ed141",
   "metadata": {},
   "outputs": [],
   "source": [
    "asset_data = cbd.load_json(filename=os.path.join(DATA_FOLDER, \"data.json\"))\n",
    "OPENSEA_FLOOR_PRICE = 0.09 # cbd.get_floor_price(asset_data)"
   ]
  },
  {
   "cell_type": "markdown",
   "id": "a8263390-76df-4118-b77d-eb6e3096c3f6",
   "metadata": {},
   "source": [
    "# Listing Prices"
   ]
  },
  {
   "cell_type": "code",
   "execution_count": null,
   "id": "8c1c74ff-08b3-44f6-886d-21594fed6dd8",
   "metadata": {},
   "outputs": [],
   "source": [
    "created_dates = []\n",
    "listing_prices = []\n",
    "for asset in asset_data:\n",
    "    if asset[\"sell_orders\"]:\n",
    "        created_dates.append(parse(asset[\"sell_orders\"][0][\"created_date\"]))\n",
    "        listing_prices.append(float(asset[\"sell_orders\"][0][\"base_price\"]) / 1e18)\n",
    "listing_prices = np.array(listing_prices)"
   ]
  },
  {
   "cell_type": "code",
   "execution_count": null,
   "id": "4e4eaddf-5b1c-459b-9a13-dda3d73058c2",
   "metadata": {},
   "outputs": [],
   "source": [
    "fig, ax = plt.subplots()\n",
    "\n",
    "dates = matplotlib.dates.date2num(created_dates)\n",
    "ax.plot_date(dates, listing_prices, 'o', alpha=0.2)\n",
    "fig.autofmt_xdate()\n",
    "ax.set_ylim(-0.01, OPENSEA_FLOOR_PRICE * 3)\n",
    "ax.set_ylabel(\"Listing Price (ETH)\")\n",
    "ax.axhline(OPENSEA_FLOOR_PRICE, color=\"tab:orange\", linestyle=\"--\", label=f\"Floor = {OPENSEA_FLOOR_PRICE:.2f} ETH\")\n",
    "ax.set_title(\"Listing price with time\")\n",
    "ax.grid(True, linestyle=\"--\")\n",
    "ax.set_yticks(ax.get_yticks()[::2])\n",
    "\n",
    "ax.legend()\n",
    "\n",
    "fig.savefig(os.path.join(RESULT_FOLDER, TIMESTAMP + \"listing_price_variation_with_time_near_floor.jpg\"), bbox_inches=\"tight\", dpi=600)"
   ]
  },
  {
   "cell_type": "code",
   "execution_count": null,
   "id": "066fc3e6-a529-4b98-acd2-9a925fe24d6c",
   "metadata": {},
   "outputs": [],
   "source": [
    "# Cost to cleanup sub-floor\n",
    "np.sum(listing_prices[listing_prices < OPENSEA_FLOOR_PRICE])"
   ]
  },
  {
   "cell_type": "markdown",
   "id": "eb32ee4d-f60e-4f60-9584-c363bb944e53",
   "metadata": {},
   "source": [
    "# Histogram of listing prices"
   ]
  },
  {
   "cell_type": "code",
   "execution_count": null,
   "id": "567a4d3f-f7a9-458e-b234-623221794540",
   "metadata": {},
   "outputs": [],
   "source": [
    "upper_limit = 3\n",
    "\n",
    "fig, ax = plt.subplots()\n",
    "_, bins, _ = ax.hist(listing_prices, histtype='stepfilled', density=True, bins=100, range=[0, upper_limit], alpha=0.5)\n",
    "\n",
    "params = scs.lognorm.fit(listing_prices[listing_prices < upper_limit])\n",
    "x_bins = np.linspace(1e-2, np.max(listing_prices[listing_prices < upper_limit]), len(bins)*100) \n",
    "ax.plot(x_bins, scs.lognorm.pdf(x_bins, *params), linewidth=2, label=f\"Lognormal distribution\")\n",
    "ax.set_title(f\"Lognormal mean listing price = {params[2]:.2f} ETH\")\n",
    "\n",
    "ax.set_xlabel(\"Listing Price (ETH)\")\n",
    "ax.set_ylabel(\"No. of listings (norm.)\")\n",
    "ax.legend()\n",
    "ax.grid(True, linestyle=\"--\")\n",
    "#ax.set_xscale(\"log\")\n",
    "fig.savefig(os.path.join(RESULT_FOLDER, TIMESTAMP + \"histogram_listing_price_variation_near_floor.jpg\"), bbox_inches=\"tight\", dpi=600)"
   ]
  },
  {
   "cell_type": "markdown",
   "id": "d4a6d3d9-7a1e-4431-b76e-a089296894b1",
   "metadata": {},
   "source": [
    "# Sale price with time"
   ]
  },
  {
   "cell_type": "code",
   "execution_count": null,
   "id": "b806831f-3e04-445b-9308-4f056b12f103",
   "metadata": {},
   "outputs": [],
   "source": [
    "sale_prices = []\n",
    "timestamps = []\n",
    "\n",
    "for asset in asset_data:\n",
    "    if asset[\"last_sale\"]:\n",
    "        if asset[\"last_sale\"][\"event_type\"] == \"successful\":\n",
    "            timestamps.append(parse(asset[\"last_sale\"][\"transaction\"][\"timestamp\"]))\n",
    "            sale_prices.append(float(asset[\"last_sale\"][\"total_price\"]) / 1e18)\n",
    "            \n",
    "sale_prices = np.array(sale_prices)"
   ]
  },
  {
   "cell_type": "code",
   "execution_count": null,
   "id": "d98801d3-e2e1-468c-85a3-5f6fcad0410e",
   "metadata": {},
   "outputs": [],
   "source": [
    "fig, ax = plt.subplots()\n",
    "\n",
    "dates = matplotlib.dates.date2num(timestamps)\n",
    "ax.plot_date(dates, sale_prices, 'o', alpha=0.2)\n",
    "fig.autofmt_xdate()\n",
    "\n",
    "ax.set_ylim(-0.01, 0.3)\n",
    "ax.set_ylabel(\"Sale Price (ETH)\")\n",
    "ax.axhline(OPENSEA_FLOOR_PRICE, color=\"tab:orange\", linestyle=\"--\", label=f\"Floor = {OPENSEA_FLOOR_PRICE:.2f} ETH\")\n",
    "ax.set_title(\"Sale price with time\")\n",
    "ax.grid(True, linestyle=\"--\")\n",
    "ax.legend()\n",
    "\n",
    "fig.savefig(os.path.join(RESULT_FOLDER, TIMESTAMP + \"sale_price_variation_with_time_near_floor.jpg\"), bbox_inches=\"tight\", dpi=600)"
   ]
  },
  {
   "cell_type": "markdown",
   "id": "b2f312ab-38d1-4297-966e-f860ec591627",
   "metadata": {
    "tags": []
   },
   "source": [
    "# Histogram of sale"
   ]
  },
  {
   "cell_type": "code",
   "execution_count": null,
   "id": "ebe6b1f4-ec00-4544-a5dd-55360e9bdd6e",
   "metadata": {},
   "outputs": [],
   "source": [
    "df = pd.DataFrame(columns=[\"Date\", \"Sales\"])\n",
    "\n",
    "df[\"Date\"] = sorted(timestamps)\n",
    "df[\"Sales\"] = np.ones(len(timestamps))\n",
    "df = df.groupby(df['Date'].dt.date).sum()"
   ]
  },
  {
   "cell_type": "code",
   "execution_count": null,
   "id": "e8a62fad-25e7-4b10-8291-d6efe50e997e",
   "metadata": {},
   "outputs": [],
   "source": [
    "upper_limit = 1\n",
    "\n",
    "fig, ax = plt.subplots()\n",
    "\n",
    "unix_timestamps = []\n",
    "\n",
    "for times in timestamps:\n",
    "    unix_timestamps.append(times.timestamp())\n",
    "\n",
    "mpl_data = mdates.epoch2num(unix_timestamps)\n",
    "_, bins, _ = ax.hist(mpl_data, bins=len(df[\"Sales\"]), alpha=0.3)\n",
    "\n",
    "ax.xaxis.set_major_formatter(mdates.DateFormatter('%d.%m'))\n",
    "ax.set_ylabel(\"Number of sales\")\n",
    "ax.grid(True, linestyle=\"--\")\n",
    "#ax.axhline(df[\"Sales\"].median(), color=\"tab:green\", linestyle=\"--\", label=\"Average sales\")\n",
    "ax.plot(df[\"Sales\"].rolling(window=5).mean(), label=\"5 day MA\")\n",
    "ax.plot(df[\"Sales\"].rolling(window=20).mean(), label=\"20 day MA\")\n",
    "\n",
    "\n",
    "ax.set_yscale(\"log\")\n",
    "ax.legend()\n",
    "\n",
    "delta = (df['Sales'][-5:].mean() - df['Sales'][-20:].mean()) / df['Sales'][-20:].mean() * 100\n",
    "if delta > 0:\n",
    "    ax.set_title(f\"Last 5 days sales up {abs(delta):.1f}% from average sales\")\n",
    "else:\n",
    "    ax.set_title(f\"Last 5 days sales down {abs(delta):.1f}% from average sales\")\n",
    "\n",
    "fig.savefig(os.path.join(RESULT_FOLDER, TIMESTAMP + \"histogram_number_of_sales_with_time.jpg\"), bbox_inches=\"tight\", dpi=600)"
   ]
  },
  {
   "cell_type": "code",
   "execution_count": null,
   "id": "efc4a95a-068c-4f93-a0f4-c97b81484452",
   "metadata": {},
   "outputs": [],
   "source": [
    "df.to_excel(os.path.join(RESULT_FOLDER, TIMESTAMP + \"sales_by_day.xlsx\"), index=True)"
   ]
  },
  {
   "cell_type": "markdown",
   "id": "eda6e1cb-dd1b-48eb-8ccb-39574470128c",
   "metadata": {},
   "source": [
    "# Chibi Dinos and ETH holdings by address (OpenSea API + Infura)"
   ]
  },
  {
   "cell_type": "code",
   "execution_count": null,
   "id": "3c4a126f-62f6-4984-95ad-a7a868aa2737",
   "metadata": {},
   "outputs": [],
   "source": [
    "df = cbd.get_nft_holdings(asset_data, \"ChibiDinos\", eth_balances=True)"
   ]
  },
  {
   "cell_type": "code",
   "execution_count": null,
   "id": "205e6bfa-1b09-4e29-9209-2e44be85233c",
   "metadata": {},
   "outputs": [],
   "source": [
    "df = df.sort_values(\"ChibiDinos\", ascending=False)"
   ]
  },
  {
   "cell_type": "code",
   "execution_count": null,
   "id": "46445c01-c027-4a9c-b01e-f7001c48546a",
   "metadata": {},
   "outputs": [],
   "source": [
    "df.to_excel(os.path.join(RESULT_FOLDER, TIMESTAMP + \"chibidinos_holders_addresses_holdings_and_balances.xlsx\"), index=False)"
   ]
  },
  {
   "cell_type": "code",
   "execution_count": null,
   "id": "ee836107-f342-4588-b99f-85e01a95aae6",
   "metadata": {},
   "outputs": [],
   "source": [
    "df = pd.read_excel(os.path.join(RESULT_FOLDER, TIMESTAMP + \"chibidinos_holders_addresses_holdings_and_balances.xlsx\"))"
   ]
  },
  {
   "cell_type": "code",
   "execution_count": null,
   "id": "3fd77190-838a-41df-9cc9-8b957ac45a62",
   "metadata": {},
   "outputs": [],
   "source": [
    "df.sort_values(\"ETH_balance\", ascending=False)"
   ]
  },
  {
   "cell_type": "markdown",
   "id": "223f8ff7-8262-466a-8edf-dfb1a642ef22",
   "metadata": {},
   "source": [
    "# ChibiDinos in wallet"
   ]
  },
  {
   "cell_type": "code",
   "execution_count": null,
   "id": "5c7790eb-e471-45f1-8776-e3692e07273f",
   "metadata": {},
   "outputs": [],
   "source": [
    "fig, ax = plt.subplots()\n",
    "\n",
    "upper_limit = 15\n",
    "_, bins, _ = ax.hist(df[\"ChibiDinos\"], density=False, bins=upper_limit, alpha=0.5, range=[0, upper_limit])\n",
    "\n",
    "ax.set_ylabel(\"No. of wallets\")\n",
    "#ax.set_yscale(\"log\")\n",
    "#ax.set_xscale(\"log\")\n",
    "ax.set_xlabel(\"Chibi Dinos in wallet\")\n",
    "\n",
    "median_holding = np.median(df['ChibiDinos'])\n",
    "max_holding = np.max(df['ChibiDinos'])\n",
    "\n",
    "chibis = 5\n",
    "ax.set_title(f\"ChibiDino holdings\\nMedian = {int(median_holding)}, Max = {int(max_holding)}, {len(df['ChibiDinos'][df['ChibiDinos'] < chibis]) / len(df['ChibiDinos']) * 100:.1f}% under {chibis} Chibis\")\n",
    "\n",
    "fig.savefig(os.path.join(RESULT_FOLDER, TIMESTAMP + \"chibi_dinos_in_wallets.jpg\"), bbox_inches=\"tight\", dpi=600)"
   ]
  },
  {
   "cell_type": "markdown",
   "id": "aa66aa07-40e1-4cad-81db-e9c629f24d04",
   "metadata": {},
   "source": [
    "# ETH in wallet"
   ]
  },
  {
   "cell_type": "code",
   "execution_count": null,
   "id": "771a4dcc-edd7-4e90-9ef7-e9eda7794f3f",
   "metadata": {},
   "outputs": [],
   "source": [
    "fig, ax = plt.subplots()\n",
    "\n",
    "upper_limit = 100\n",
    "\n",
    "_, bins, _ = ax.hist(df[\"ETH_balance\"], density=False, bins=100, alpha=0.5, range=[0, upper_limit], )\n",
    "\n",
    "print(f\"Under {upper_limit} ETH = {len(df['ETH_balance'][df['ETH_balance'] < upper_limit]) / len(df['ETH_balance']) * 100:.2f}%\")\n",
    "print(f\"Over {upper_limit} ETH = {len(df['ETH_balance'][df['ETH_balance'] > upper_limit]) / len(df['ETH_balance']) * 100:.2f}%\")\n",
    "\n",
    "ax.set_ylabel(\"No. of wallets\")\n",
    "ax.set_yscale(\"log\")\n",
    "ax.set_xscale(\"log\")\n",
    "ax.set_xlabel(\"ETH in wallet\")\n",
    "\n",
    "median_holding = np.median(df['ETH_balance'])\n",
    "max_holding = np.max(df['ETH_balance'])\n",
    "ax.set_title(f\"ChibiDinos holders ETH balance\\nMedian = {median_holding:.2f} ETH, Max = {max_holding:.2f} ETH\")\n",
    "\n",
    "fig.savefig(os.path.join(RESULT_FOLDER, TIMESTAMP + \"eth_in_holder_wallets.jpg\"), bbox_inches=\"tight\", dpi=600)"
   ]
  },
  {
   "cell_type": "markdown",
   "id": "5840d98c-515e-464b-bbab-f37b5fce2778",
   "metadata": {},
   "source": [
    "# Variation of bid price with time"
   ]
  },
  {
   "cell_type": "code",
   "execution_count": null,
   "id": "98947470-da89-4de6-aef1-e14befe02bde",
   "metadata": {},
   "outputs": [],
   "source": [
    "events_data = cbd.fetch_events(max_offset=10000)\n",
    "cbd.save_json(events_data, filename=os.path.join(DATA_FOLDER, \"events.json\"))"
   ]
  },
  {
   "cell_type": "code",
   "execution_count": null,
   "id": "5c4f10f9-4e39-4cbc-8838-0eabdf5e0a97",
   "metadata": {},
   "outputs": [],
   "source": [
    "events_data = cbd.load_json(filename=os.path.join(DATA_FOLDER, \"events.json\"))"
   ]
  },
  {
   "cell_type": "code",
   "execution_count": null,
   "id": "f0b42db6-867a-4910-9990-d84ef37b79ff",
   "metadata": {},
   "outputs": [],
   "source": [
    "bids = []\n",
    "created_dates = []\n",
    "\n",
    "for event in events_data:\n",
    "    if event[\"bid_amount\"]:\n",
    "        created_dates.append(parse(event[\"created_date\"]))\n",
    "        bids.append(float(event[\"bid_amount\"]) / 1e18)\n",
    "bids = np.array(bids)"
   ]
  },
  {
   "cell_type": "code",
   "execution_count": null,
   "id": "f66c7b80-5634-439e-90c4-c4225d769286",
   "metadata": {},
   "outputs": [],
   "source": [
    "fig, ax = plt.subplots()\n",
    "#ax.set_yscale(\"log\")\n",
    "dates = matplotlib.dates.date2num(created_dates)\n",
    "ax.plot_date(dates, bids, 'o', alpha=0.4)\n",
    "fig.autofmt_xdate()\n",
    "ax.set_ylabel(\"Bid Price (ETH)\")\n",
    "ax.axhline(OPENSEA_FLOOR_PRICE, color=\"tab:orange\", linestyle=\"--\", label=f\"OpenSea floor = {OPENSEA_FLOOR_PRICE:.2f} ETH\")\n",
    "ax.legend()\n",
    "ax.set_ylim(-0.01, OPENSEA_FLOOR_PRICE * 10)\n",
    "ax.set_title(f\"Variation of bids with time (Bids under floor = {len(bids[bids < OPENSEA_FLOOR_PRICE]) / len(bids) * 100:.1f}%)\")\n",
    "ax.grid(True, linestyle=\"--\")\n",
    "\n",
    "fig.savefig(os.path.join(RESULT_FOLDER, TIMESTAMP + \"bid_price_variation_with_time.jpg\"), bbox_inches=\"tight\", dpi=600)"
   ]
  },
  {
   "cell_type": "markdown",
   "id": "a00b0187-cce3-4e28-a152-8767cf1d369d",
   "metadata": {},
   "source": [
    "# Number per price range"
   ]
  },
  {
   "cell_type": "code",
   "execution_count": 7,
   "id": "f3fbdb87-0dab-4134-b78d-e71ab982a8bc",
   "metadata": {},
   "outputs": [],
   "source": [
    "created_dates = []\n",
    "listing_prices = []\n",
    "for asset in asset_data:\n",
    "    if asset[\"sell_orders\"]:\n",
    "        created_dates.append(parse(asset[\"sell_orders\"][0][\"created_date\"]))\n",
    "        listing_prices.append(float(asset[\"sell_orders\"][0][\"base_price\"]) / 1e18)\n",
    "listing_prices = np.array(listing_prices)"
   ]
  },
  {
   "cell_type": "code",
   "execution_count": 56,
   "id": "425dd8a1-ac96-4f42-af9b-d5c28c00abb9",
   "metadata": {},
   "outputs": [
    {
     "name": "stdout",
     "output_type": "stream",
     "text": [
      "[0.1  0.11 0.12 0.13 0.14 0.15 0.16 0.17 0.18 0.19]\n",
      "[0.09 0.1  0.11 0.12 0.13 0.14 0.15 0.16 0.17 0.18]\n"
     ]
    },
    {
     "data": {
      "image/png": "[encoded data removed]",
      "text/plain": [
       "<Figure size 432x288 with 1 Axes>"
      ]
     },
     "metadata": {},
     "output_type": "display_data"
    }
   ],
   "source": [
    "OPENSEA_FLOOR_PRICE = round(OPENSEA_FLOOR_PRICE, 2)\n",
    "\n",
    "numbers_in_bins = []\n",
    "\n",
    "price_bins = np.arange(0.1, 0.2, 0.01)\n",
    "differential = 0.01\n",
    "print(price_bins)\n",
    "print(price_bins - differential)\n",
    "last_bin = 0\n",
    "for current_bin in price_bins:\n",
    "    number_in_bin = len(listing_prices[(listing_prices < current_bin) & (listing_prices >= (current_bin - differential))])\n",
    "    last_bin = current_bin\n",
    "    numbers_in_bins.append(round(number_in_bin, 2))\n",
    "\n",
    "price_bins_rounded = np.around(price_bins, 2)\n",
    "\n",
    "ax = sns.barplot(x=price_bins_rounded, y=numbers_in_bins, color=\"seagreen\")\n",
    "ax.bar_label(ax.containers[0])\n",
    "sns.despine(left=True)\n",
    "ax.set_yticks(ax.get_yticks()[::2])\n",
    "ax.set_xlabel(\"Floor price in ETH\")\n",
    "ax.set_ylabel(\"Chibi Dinos for sale\")\n",
    "ax.figure.savefig(os.path.join(RESULT_FOLDER, TIMESTAMP + \"chibi_dinos_floor_sale.jpg\"), dpi=600)"
   ]
  },
  {
   "cell_type": "code",
   "execution_count": 22,
   "id": "1746701e-644a-47dc-8416-e07122f3c656",
   "metadata": {},
   "outputs": [
    {
     "data": {
      "text/plain": [
       "344"
      ]
     },
     "execution_count": 22,
     "metadata": {},
     "output_type": "execute_result"
    }
   ],
   "source": [
    "38 + 157 + 27 + 51 + 26 + 45"
   ]
  },
  {
   "cell_type": "markdown",
   "id": "751b7923-00fc-4f2b-a925-9ebf1fe3feed",
   "metadata": {},
   "source": [
    "# IQ"
   ]
  },
  {
   "cell_type": "code",
   "execution_count": null,
   "id": "d9e90619-f357-4308-a67d-7901127038a1",
   "metadata": {},
   "outputs": [],
   "source": [
    "assets_with_sells = 0\n",
    "for asset in asset_data:\n",
    "    if asset[\"sell_orders\"]:\n",
    "        assets_with_sells += 1\n",
    "\n",
    "iqs = np.ones(assets_with_sells, dtype=\"int\") * 19\n",
    "listing_prices = np.zeros(assets_with_sells)\n",
    "\n",
    "idx = 0\n",
    "for asset in asset_data:\n",
    "    if asset[\"sell_orders\"]:\n",
    "        for trait in asset[\"traits\"]:\n",
    "            if trait[\"trait_type\"] == \"IQ\":\n",
    "                listing_prices[idx] = float(asset[\"sell_orders\"][0][\"base_price\"]) / 1e18\n",
    "                iqs[idx] = int(trait[\"value\"])\n",
    "        idx += 1"
   ]
  },
  {
   "cell_type": "code",
   "execution_count": null,
   "id": "ae94f4c4-564c-4137-ab9c-15c25f45f39e",
   "metadata": {},
   "outputs": [],
   "source": [
    "_iq = {}\n",
    "\n",
    "for asset in asset_data:\n",
    "    if asset[\"sell_orders\"]:\n",
    "        for trait in asset[\"traits\"]:\n",
    "            if trait[\"trait_type\"] == \"IQ\":\n",
    "                _iq[int(trait[\"value\"])] = []\n",
    "                \n",
    "for asset in asset_data:\n",
    "    if asset[\"sell_orders\"]:\n",
    "        for trait in asset[\"traits\"]:\n",
    "            if trait[\"trait_type\"] == \"IQ\":\n",
    "                _iq[int(trait[\"value\"])].append(float(asset[\"sell_orders\"][0][\"base_price\"]) / 1e18)"
   ]
  },
  {
   "cell_type": "code",
   "execution_count": null,
   "id": "a131d363-3ff6-44d6-83a1-68c75682151c",
   "metadata": {},
   "outputs": [],
   "source": [
    "def x3_func(x, a, b, c):\n",
    "    return a + b * (x - c)**3"
   ]
  },
  {
   "cell_type": "code",
   "execution_count": null,
   "id": "df14e39a-42c9-46a9-a19a-e82aa482a272",
   "metadata": {},
   "outputs": [],
   "source": [
    "popt, pcov = curve_fit(x3_func, xdata=np.arange(0, len(iqs)), ydata=np.sort(iqs))"
   ]
  },
  {
   "cell_type": "code",
   "execution_count": null,
   "id": "349f81fb-1074-458e-8787-0ee9ef0eda8c",
   "metadata": {},
   "outputs": [],
   "source": [
    "fig, ax = plt.subplots()\n",
    "#ax.plot(np.sort(iqs))\n",
    "\n",
    "spl = interpolate.UnivariateSpline(np.arange(0, len(iqs)), np.sort(iqs), k=5, s=500)\n",
    "interp_x = np.linspace(0, len(iqs), 500)\n",
    "ax.plot(interp_x, spl(interp_x))\n",
    "\n",
    "val = 50\n",
    "res = np.interp(val, np.sort(iqs), np.arange(0, len(iqs)))\n",
    "ax.plot(res, val+1, markersize=10, marker=\"o\")\n",
    "\n",
    "#ax.plot(np.arange(0, len(iqs)), x3_func(np.arange(0, len(iqs)), *popt))\n",
    "ax.set_xlabel(\"Index\")\n",
    "ax.set_ylabel(\"IQ\")\n",
    "\n",
    "lower, mid_lower, mid_upper, upper= 30, 45, 65, 80\n",
    "ax.axhspan(upper, np.max(iqs), alpha=0.2, color='C2', label=\"Genius IQ\")\n",
    "ax.axhspan(mid_upper, upper, alpha=0.2, color='C4', label=\"High IQ\")\n",
    "ax.axhspan(mid_lower, mid_upper, alpha=0.2, color='C5', label=\"Average IQ\")\n",
    "ax.axhspan(lower, mid_lower, alpha=0.2, color='C1', label=\"Below average IQ\")\n",
    "ax.axhspan(np.min(iqs), lower, alpha=0.2, color='C3', label=\"Low IQ\")\n",
    "ax.grid(False)\n",
    "fig.legend(loc=\"center left\", bbox_to_anchor=(0.9, 0.5))\n",
    "sns.despine(bottom=True, left=True)\n",
    "ax.set(xlabel=None)\n",
    "ax.set(xticklabels=[])\n",
    "ax.set_title(\"IQ curve\")\n",
    "\n",
    "fig.savefig(os.path.join(RESULT_FOLDER, \"IQ_curve.jpg\"), dpi=600, bbox_inches=\"tight\")"
   ]
  },
  {
   "cell_type": "code",
   "execution_count": null,
   "id": "5e0583c8-644f-4dea-ab05-ca2f1a5df1a1",
   "metadata": {},
   "outputs": [],
   "source": [
    "fig, ax = plt.subplots()\n",
    "ax.plot(np.sort(iqs), listing_prices[np.argsort(iqs)], \".\")\n",
    "ax.set_ylim([1e-3, 1e4])\n",
    "ax.set_yscale(\"log\")\n",
    "ax.set_xlabel(\"IQ\")\n",
    "ax.set_ylabel(\"Listing Price\")"
   ]
  },
  {
   "cell_type": "code",
   "execution_count": null,
   "id": "976a780e-216f-43f3-9c34-5cb72427658e",
   "metadata": {},
   "outputs": [],
   "source": [
    "np.corrcoef(np.sort(iqs), listing_prices[np.argsort(iqs)])"
   ]
  },
  {
   "cell_type": "code",
   "execution_count": null,
   "id": "821cd12a-ed08-4b85-8e2c-773328b5328c",
   "metadata": {},
   "outputs": [],
   "source": [
    "def x2func(x, a, b, c):\n",
    "    return a + b * x + c * x**2\n",
    "\n",
    "def exp(x, a, b, c):\n",
    "    return a + b * np.exp(c * x)"
   ]
  },
  {
   "cell_type": "code",
   "execution_count": null,
   "id": "ed1928bb-e220-4b8f-8002-1a1d7e034104",
   "metadata": {},
   "outputs": [],
   "source": [
    "for key, value in _iq.items():\n",
    "    _iq[key] = np.median(value)"
   ]
  },
  {
   "cell_type": "code",
   "execution_count": null,
   "id": "887753ee-0333-4a81-ba11-d7ff2eb4ccba",
   "metadata": {},
   "outputs": [],
   "source": [
    "iq2 = np.array(list(_iq.items()))[:, 0]\n",
    "prices2 = np.array(list(_iq.items()))[:, 1]"
   ]
  },
  {
   "cell_type": "code",
   "execution_count": null,
   "id": "e792608e-82e4-497c-b741-b8181c5ec58d",
   "metadata": {},
   "outputs": [],
   "source": [
    "popt, pcov = curve_fit(x2func, xdata=np.sort(iq2), ydata=prices2[np.argsort(iq2)])"
   ]
  },
  {
   "cell_type": "code",
   "execution_count": null,
   "id": "66bc1378-9e9c-4e3d-bed7-2114f520015c",
   "metadata": {},
   "outputs": [],
   "source": [
    "fig, ax = plt.subplots()\n",
    "ax.plot(np.sort(iq2), prices2[np.argsort(iq2)], \".\")\n",
    "#ax.plot(np.sort(iq2), exp(np.sort(iq2), *popt))\n",
    "ax.set_ylim([1e-2, 5e2])\n",
    "ax.set_yscale(\"log\")\n",
    "\n",
    "ax.set_ylabel(\"Median listing prices\")\n",
    "ax.set_xlabel(\"IQ\")\n",
    "\n",
    "ax.figure.savefig(os.path.join(RESULT_FOLDER, TIMESTAMP + \"IQ_with_listing_price.jpg\"), dpi=600)"
   ]
  },
  {
   "cell_type": "code",
   "execution_count": null,
   "id": "7b9793f1-7884-4ffc-8113-679bca70cda2",
   "metadata": {},
   "outputs": [],
   "source": [
    "np.corrcoef(np.sort(iq2), prices2[np.argsort(iq2)])"
   ]
  }
 ],
 "metadata": {
  "kernelspec": {
   "display_name": "nft_analytics",
   "language": "python",
   "name": "nft_analytics"
  },
  "language_info": {
   "codemirror_mode": {
    "name": "ipython",
    "version": 3
   },
   "file_extension": ".py",
   "mimetype": "text/x-python",
   "name": "python",
   "nbconvert_exporter": "python",
   "pygments_lexer": "ipython3",
   "version": "3.9.6"
  }
 },
 "nbformat": 4,
 "nbformat_minor": 5
}
