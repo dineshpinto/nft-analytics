{
 "cells": [
  {
   "cell_type": "code",
   "execution_count": 1,
   "id": "e9f34807-e4ee-440b-bafa-d1b31290b4fc",
   "metadata": {},
   "outputs": [],
   "source": [
    "import os\n",
    "from datetime import datetime\n",
    "from dateutil.parser import parse\n",
    "import time\n",
    "\n",
    "import numpy as np\n",
    "import pandas as pd\n",
    "import scipy.stats as scs\n",
    "import matplotlib\n",
    "import matplotlib.pyplot as plt\n",
    "import matplotlib.dates as mdates\n",
    "from pprint import pprint\n",
    "from tqdm import tqdm\n",
    "\n",
    "import seaborn as sns\n",
    "sns.set_theme(style=\"whitegrid\")\n",
    "\n",
    "from src.nft_analytics import NFTAnalytics\n",
    "from src.ethereum_api import EthereumAPI"
   ]
  },
  {
   "cell_type": "code",
   "execution_count": 2,
   "id": "2872ade5-eca5-4c74-8cdf-0b27e4fef6e8",
   "metadata": {},
   "outputs": [
    {
     "name": "stdout",
     "output_type": "stream",
     "text": [
      "2021-10-23 19:01:12,843 - src.ethereum_api - INFO - Connected to Infura endpoint.\n"
     ]
    }
   ],
   "source": [
    "ggg = NFTAnalytics(\"0x16780860c1c0A69C9704ad2aC828a92654d7009F\")\n",
    "DATA_FOLDER, RESULT_FOLDER = ggg.make_directories(\"GreatGenesisGorillas\")\n",
    "TIMESTAMP = datetime.now().strftime(\"%Y-%m-%d_\")"
   ]
  },
  {
   "cell_type": "code",
   "execution_count": 3,
   "id": "b5135e27-5819-447f-ba39-9937f4812efa",
   "metadata": {},
   "outputs": [
    {
     "name": "stderr",
     "output_type": "stream",
     "text": [
      "2000: 100%|██████████████████████████████████████████████████████████████████████████████████████████████████████████████████████████████████████████████████████████████████████████████████████████████████████████████████████████████████████████████████████████████████████████████████████████████████████| 41/41 [01:25<00:00,  2.10s/it]\n"
     ]
    },
    {
     "name": "stdout",
     "output_type": "stream",
     "text": [
      "2021-10-23 19:02:39,891 - src.nft_analytics - INFO - Saved asset data to data\\GreatGenesisGorillas\\data_gorillas.json\n"
     ]
    }
   ],
   "source": [
    "asset_data = ggg.fetch_data(max_offset=2000)\n",
    "ggg.save_json(asset_data, filename=os.path.join(DATA_FOLDER, \"data_gorillas.json\"))"
   ]
  },
  {
   "cell_type": "code",
   "execution_count": null,
   "id": "1ebc4e89-7548-41f1-b563-d4ab570022d8",
   "metadata": {},
   "outputs": [],
   "source": [
    "asset_data = ggg.load_json(filename=os.path.join(DATA_FOLDER, \"data_gorillas.json\"))"
   ]
  },
  {
   "cell_type": "markdown",
   "id": "074393ae-daa1-4960-9d87-1e1d3b8418c1",
   "metadata": {},
   "source": [
    "# Addresses without listing or with above 0.4 ETH listing"
   ]
  },
  {
   "cell_type": "code",
   "execution_count": 4,
   "id": "c27e2bf3-fcbb-4253-a068-e6835c3f8972",
   "metadata": {},
   "outputs": [],
   "source": [
    "listings = {}\n",
    "\n",
    "for asset in asset_data:\n",
    "    listings[asset[\"owner\"][\"address\"]] = []\n",
    "    \n",
    "for asset in asset_data:\n",
    "    if asset[\"sell_orders\"]:\n",
    "        listing_price = float(asset[\"sell_orders\"][0][\"base_price\"]) / 1e18\n",
    "        listings[asset[\"owner\"][\"address\"]].append(listing_price)\n",
    "    else:\n",
    "        listings[asset[\"owner\"][\"address\"]].append(10000)"
   ]
  },
  {
   "cell_type": "code",
   "execution_count": 5,
   "id": "fb741bce-63b4-4e0a-8042-ecaab756d9fc",
   "metadata": {},
   "outputs": [],
   "source": [
    "valid_addresses = []\n",
    "min_listing_prices = []\n",
    "\n",
    "for address, listing_prices in listings.items():\n",
    "    if min(listing_prices) >= 0.4:\n",
    "        min_listing_prices.append(min(listing_prices))\n",
    "        valid_addresses.append(address)"
   ]
  },
  {
   "cell_type": "code",
   "execution_count": 6,
   "id": "03c54030-ca04-4236-abf1-3c595f0d1e8b",
   "metadata": {},
   "outputs": [],
   "source": [
    "df = pd.DataFrame(columns=[\"Address\", \"Minimum Listing\"])\n",
    "df[\"Address\"] = valid_addresses\n",
    "df[\"Minimum Listing\"] = min_listing_prices\n",
    "\n",
    "df[\"Minimum Listing\"] = df[\"Minimum Listing\"].replace(10000, 'Unlisted')\n",
    "\n",
    "opensea_links = []\n",
    "for address in df[\"Address\"]:\n",
    "    opensea_links.append(f\"https://opensea.io/{address}\")\n",
    "df[\"OpenSea_link\"] = opensea_links\n",
    "\n",
    "df.to_excel(os.path.join(RESULT_FOLDER, TIMESTAMP + \"gorilla_addresses_unlisted_or_aboveequalto0point4ETH.xlsx\"), index=False)"
   ]
  },
  {
   "cell_type": "code",
   "execution_count": null,
   "id": "bbe359eb-96ff-4f11-81b7-c06987f33ecc",
   "metadata": {},
   "outputs": [],
   "source": []
  },
  {
   "cell_type": "code",
   "execution_count": null,
   "id": "f305f27c-8403-4559-be62-72350012e3b3",
   "metadata": {},
   "outputs": [],
   "source": [
    "created_dates = []\n",
    "listing_prices = []\n",
    "for asset in asset_data:\n",
    "    if asset[\"sell_orders\"]:\n",
    "        created_dates.append(parse(asset[\"sell_orders\"][0][\"created_date\"]))\n",
    "        listing_prices.append(float(asset[\"sell_orders\"][0][\"base_price\"]) / 1e18)\n",
    "listing_prices = np.array(listing_prices)"
   ]
  },
  {
   "cell_type": "code",
   "execution_count": null,
   "id": "a55a082e-f81e-4a79-8974-1cbb270cde68",
   "metadata": {},
   "outputs": [],
   "source": [
    "len(listing_prices)"
   ]
  },
  {
   "cell_type": "code",
   "execution_count": null,
   "id": "d8f95a56-2ecb-4309-8876-410126e4a470",
   "metadata": {},
   "outputs": [],
   "source": [
    "OPENSEA_FLOOR_PRICE = 0.084"
   ]
  },
  {
   "cell_type": "code",
   "execution_count": null,
   "id": "6694f7d9-7c29-466d-8c65-3cccd7efe063",
   "metadata": {},
   "outputs": [],
   "source": [
    "OPENSEA_FLOOR_PRICE = round(OPENSEA_FLOOR_PRICE, 3)\n",
    "\n",
    "numbers_in_bins = []\n",
    "\n",
    "price_bins = np.linspace(OPENSEA_FLOOR_PRICE, OPENSEA_FLOOR_PRICE * 2, 9)\n",
    "\n",
    "last_bin = 0\n",
    "for current_bin in price_bins:\n",
    "    number_in_bin = len(listing_prices[(listing_prices < current_bin) & (last_bin < listing_prices)])\n",
    "    last_bin = current_bin\n",
    "    numbers_in_bins.append(round(number_in_bin, 2))\n",
    "\n",
    "price_bins_rounded = np.around(price_bins, 2)\n",
    "\n",
    "ax = sns.barplot(x=price_bins_rounded, y=numbers_in_bins, color=\"seagreen\")\n",
    "ax.bar_label(ax.containers[0])\n",
    "sns.despine(left=True)\n",
    "ax.set_yticks(ax.get_yticks()[::2])\n",
    "ax.set_xlabel(\"Price in ETH\")\n",
    "ax.set_ylabel(\"Great Genesis Gorillas for sale\")\n",
    "#ax.figure.savefig(os.path.join(RESULT_FOLDER, TIMESTAMP + \"great_gorillas.jpg\"), dpi=600)"
   ]
  },
  {
   "cell_type": "code",
   "execution_count": null,
   "id": "ab49e1de-4ab8-45a3-87a1-5f9d1681148c",
   "metadata": {},
   "outputs": [],
   "source": [
    "OPENSEA_FLOOR_PRICE = round(OPENSEA_FLOOR_PRICE, 2)\n",
    "\n",
    "numbers_in_bins = []\n",
    "\n",
    "price_bins = np.arange(0.1, 0.6, 0.1)\n",
    "differential = 0.1\n",
    "print(price_bins)\n",
    "print(price_bins - differential)\n",
    "last_bin = 0\n",
    "for current_bin in price_bins:\n",
    "    number_in_bin = len(listing_prices[(listing_prices < current_bin) & (listing_prices >= (current_bin - differential))])\n",
    "    last_bin = current_bin\n",
    "    numbers_in_bins.append(round(number_in_bin, 2))\n",
    "\n",
    "price_bins_rounded = np.around(price_bins, 2)\n",
    "\n",
    "ax = sns.barplot(x=price_bins_rounded, y=numbers_in_bins, color=\"seagreen\")\n",
    "ax.bar_label(ax.containers[0])\n",
    "sns.despine(left=True)\n",
    "ax.set_yticks(ax.get_yticks()[::2])\n",
    "ax.set_xlabel(\"Floor price in ETH\")\n",
    "ax.set_ylabel(\"Great Gorillas for sale\")\n",
    "ax.set_title(\"After DELIST\")\n",
    "#ax.figure.savefig(os.path.join(RESULT_FOLDER, TIMESTAMP + \"after_delist_great_gorillas.jpg\"), dpi=600)"
   ]
  }
 ],
 "metadata": {
  "kernelspec": {
   "display_name": "nft_analytics",
   "language": "python",
   "name": "nft_analytics"
  },
  "language_info": {
   "codemirror_mode": {
    "name": "ipython",
    "version": 3
   },
   "file_extension": ".py",
   "mimetype": "text/x-python",
   "name": "python",
   "nbconvert_exporter": "python",
   "pygments_lexer": "ipython3",
   "version": "3.9.6"
  }
 },
 "nbformat": 4,
 "nbformat_minor": 5
}
